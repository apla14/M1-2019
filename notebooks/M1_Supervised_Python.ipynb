{
  "nbformat": 4,
  "nbformat_minor": 0,
  "metadata": {
    "colab": {
      "name": "M1 - Supervised Python",
      "version": "0.3.2",
      "provenance": [],
      "collapsed_sections": [],
      "include_colab_link": true
    },
    "kernelspec": {
      "name": "python3",
      "display_name": "Python 3"
    }
  },
  "cells": [
    {
      "cell_type": "markdown",
      "metadata": {
        "id": "view-in-github",
        "colab_type": "text"
      },
      "source": [
        "<a href=\"https://colab.research.google.com/github/SDS-AAU/M1-2019/blob/master/notebooks/M1_Supervised_Python.ipynb\" target=\"_parent\"><img src=\"https://colab.research.google.com/assets/colab-badge.svg\" alt=\"Open In Colab\"/></a>"
      ]
    },
    {
      "cell_type": "markdown",
      "metadata": {
        "id": "7pOO1KFlyCIt",
        "colab_type": "text"
      },
      "source": [
        "# Quick - Live Coding Supervised ML pipeline in Python\n",
        "\n",
        "In this tutorial we are going to use an already clean dataset from the Nomadlist Cities data to predict the continent where the city is located.\n",
        "\n",
        "We are going to encode target-labeld (world regions), scale our features and try out different algorithms including LogisticRegression, Random Forest, Catboost and XGBoost. \n",
        "\n",
        "The tutorial will mostly rely on the Sklearn ML library.\n",
        "You will see that the syntax and logic of Sklearn is also used in other new libraries like Catboost and XGBoost"
      ]
    },
    {
      "cell_type": "code",
      "metadata": {
        "id": "qzY4IQJCvFk9",
        "colab_type": "code",
        "colab": {}
      },
      "source": [
        "# Import standard Libraries\n",
        "import pandas as pd\n",
        "import seaborn as sns\n",
        "\n",
        "sns.set(rc={'figure.figsize':(10,10)})"
      ],
      "execution_count": 0,
      "outputs": []
    },
    {
      "cell_type": "markdown",
      "metadata": {
        "id": "ozqlEmY_1X-I",
        "colab_type": "text"
      },
      "source": [
        "## Loading and selecting the data"
      ]
    },
    {
      "cell_type": "code",
      "metadata": {
        "id": "OM53LeRnv1f_",
        "colab_type": "code",
        "colab": {}
      },
      "source": [
        "# Load data\n",
        "data = pd.read_csv('https://github.com/SDS-AAU/M1-2019/raw/master/data/cities_prep.csv')"
      ],
      "execution_count": 0,
      "outputs": []
    },
    {
      "cell_type": "code",
      "metadata": {
        "id": "uwzfKUm2v6I6",
        "colab_type": "code",
        "colab": {}
      },
      "source": [
        "# Select the (independant) features that we are going to use to train the model\n",
        "X = data.loc[:,'cost_nomad':'weed']"
      ],
      "execution_count": 0,
      "outputs": []
    },
    {
      "cell_type": "code",
      "metadata": {
        "id": "quFteZ5SwSzW",
        "colab_type": "code",
        "colab": {}
      },
      "source": [
        "# Define the dependant variabel / target to predict (world region)\n",
        "y = data.region"
      ],
      "execution_count": 0,
      "outputs": []
    },
    {
      "cell_type": "markdown",
      "metadata": {
        "id": "moDGB3-i1dx3",
        "colab_type": "text"
      },
      "source": [
        "## Transforming, preprocessing and splitting"
      ]
    },
    {
      "cell_type": "code",
      "metadata": {
        "id": "DpeSJSkvwp0-",
        "colab_type": "code",
        "colab": {}
      },
      "source": [
        "# Load and instantiate a LabelEncoder that will turn our text labels (regions into indices)\n",
        "from sklearn.preprocessing import LabelEncoder\n",
        "encoder = LabelEncoder()"
      ],
      "execution_count": 0,
      "outputs": []
    },
    {
      "cell_type": "code",
      "metadata": {
        "id": "NanA9OsOxHVt",
        "colab_type": "code",
        "colab": {}
      },
      "source": [
        "# Transform labels into indices by passing y to the encoder\n",
        "y_enc = encoder.fit_transform(y)"
      ],
      "execution_count": 0,
      "outputs": []
    },
    {
      "cell_type": "code",
      "metadata": {
        "id": "lhyluncNxVJ6",
        "colab_type": "code",
        "colab": {}
      },
      "source": [
        "# Load and instantiate a StandardSclaer \n",
        "from sklearn.preprocessing import StandardScaler\n",
        "scaler = StandardScaler()"
      ],
      "execution_count": 0,
      "outputs": []
    },
    {
      "cell_type": "code",
      "metadata": {
        "id": "diIu55Vzxta_",
        "colab_type": "code",
        "colab": {}
      },
      "source": [
        "# Apply the scaler to our X-features\n",
        "X_scaled = scaler.fit_transform(X)"
      ],
      "execution_count": 0,
      "outputs": []
    },
    {
      "cell_type": "code",
      "metadata": {
        "id": "TrL3QRCxyBVN",
        "colab_type": "code",
        "colab": {}
      },
      "source": [
        "# Split the data using the train_test_split module. We keep 20% of the data for testing and use 80% to train the model\n",
        "# Random state defined with an arbitrary number for reproducibility\n",
        "\n",
        "from sklearn.model_selection import train_test_split\n",
        "X_train, X_test, y_train, y_test = train_test_split(X_scaled, y_enc, test_size = 0.2, random_state = 42)"
      ],
      "execution_count": 0,
      "outputs": []
    },
    {
      "cell_type": "markdown",
      "metadata": {
        "id": "a2KCzi2o1iyw",
        "colab_type": "text"
      },
      "source": [
        "## Training and evaluating various models"
      ]
    },
    {
      "cell_type": "code",
      "metadata": {
        "id": "3MkQFoNe1vmT",
        "colab_type": "code",
        "colab": {}
      },
      "source": [
        "# Import modules that we are going to use for all models\n",
        "\n",
        "# Import K-fold crossvalidation\n",
        "from sklearn.model_selection import cross_val_score\n",
        "\n",
        "# Import Classification Report for later evaluatoion of performance\n",
        "from sklearn.metrics import classification_report"
      ],
      "execution_count": 0,
      "outputs": []
    },
    {
      "cell_type": "markdown",
      "metadata": {
        "id": "VLFEsvms1_2S",
        "colab_type": "text"
      },
      "source": [
        "### LogisticRegression (let's call it that for now without going into details)"
      ]
    },
    {
      "cell_type": "code",
      "metadata": {
        "id": "AXExQ2Kvy4z2",
        "colab_type": "code",
        "outputId": "76c8c150-49ef-46c8-a763-66a3d85e344e",
        "colab": {
          "base_uri": "https://localhost:8080/",
          "height": 479
        }
      },
      "source": [
        "# Import and instantiate the model\n",
        "from sklearn.linear_model import LogisticRegression\n",
        "model = LogisticRegression()\n",
        "\n",
        "# K-fold cross-validation (splitting the 80% into 5 chunks, using 4 to train and 1 to evaluate)\n",
        "scores = cross_val_score(model, X_train, y_train, cv = 5)\n",
        "print(scores)\n",
        "\n",
        "# Model training\n",
        "model.fit(X_train, y_train)\n",
        "\n",
        "# Model performance on the test-set\n",
        "print(model.score(X_test, y_test))"
      ],
      "execution_count": 11,
      "outputs": [
        {
          "output_type": "stream",
          "text": [
            "[0.7007874  0.68253968 0.69354839 0.66129032 0.69918699]\n",
            "0.6538461538461539\n"
          ],
          "name": "stdout"
        },
        {
          "output_type": "stream",
          "text": [
            "/usr/local/lib/python3.6/dist-packages/sklearn/linear_model/logistic.py:432: FutureWarning: Default solver will be changed to 'lbfgs' in 0.22. Specify a solver to silence this warning.\n",
            "  FutureWarning)\n",
            "/usr/local/lib/python3.6/dist-packages/sklearn/linear_model/logistic.py:469: FutureWarning: Default multi_class will be changed to 'auto' in 0.22. Specify the multi_class option to silence this warning.\n",
            "  \"this warning.\", FutureWarning)\n",
            "/usr/local/lib/python3.6/dist-packages/sklearn/linear_model/logistic.py:432: FutureWarning: Default solver will be changed to 'lbfgs' in 0.22. Specify a solver to silence this warning.\n",
            "  FutureWarning)\n",
            "/usr/local/lib/python3.6/dist-packages/sklearn/linear_model/logistic.py:469: FutureWarning: Default multi_class will be changed to 'auto' in 0.22. Specify the multi_class option to silence this warning.\n",
            "  \"this warning.\", FutureWarning)\n",
            "/usr/local/lib/python3.6/dist-packages/sklearn/linear_model/logistic.py:432: FutureWarning: Default solver will be changed to 'lbfgs' in 0.22. Specify a solver to silence this warning.\n",
            "  FutureWarning)\n",
            "/usr/local/lib/python3.6/dist-packages/sklearn/linear_model/logistic.py:469: FutureWarning: Default multi_class will be changed to 'auto' in 0.22. Specify the multi_class option to silence this warning.\n",
            "  \"this warning.\", FutureWarning)\n",
            "/usr/local/lib/python3.6/dist-packages/sklearn/linear_model/logistic.py:432: FutureWarning: Default solver will be changed to 'lbfgs' in 0.22. Specify a solver to silence this warning.\n",
            "  FutureWarning)\n",
            "/usr/local/lib/python3.6/dist-packages/sklearn/linear_model/logistic.py:469: FutureWarning: Default multi_class will be changed to 'auto' in 0.22. Specify the multi_class option to silence this warning.\n",
            "  \"this warning.\", FutureWarning)\n",
            "/usr/local/lib/python3.6/dist-packages/sklearn/linear_model/logistic.py:432: FutureWarning: Default solver will be changed to 'lbfgs' in 0.22. Specify a solver to silence this warning.\n",
            "  FutureWarning)\n",
            "/usr/local/lib/python3.6/dist-packages/sklearn/linear_model/logistic.py:469: FutureWarning: Default multi_class will be changed to 'auto' in 0.22. Specify the multi_class option to silence this warning.\n",
            "  \"this warning.\", FutureWarning)\n",
            "/usr/local/lib/python3.6/dist-packages/sklearn/linear_model/logistic.py:432: FutureWarning: Default solver will be changed to 'lbfgs' in 0.22. Specify a solver to silence this warning.\n",
            "  FutureWarning)\n",
            "/usr/local/lib/python3.6/dist-packages/sklearn/linear_model/logistic.py:469: FutureWarning: Default multi_class will be changed to 'auto' in 0.22. Specify the multi_class option to silence this warning.\n",
            "  \"this warning.\", FutureWarning)\n"
          ],
          "name": "stderr"
        }
      ]
    },
    {
      "cell_type": "markdown",
      "metadata": {
        "id": "gibHMkps8rV0",
        "colab_type": "text"
      },
      "source": [
        "The overall accuracy is at 69% which is not too impressive. In a multiclass setting that number is also somewhat hard to interpret and that's where it's useful to look at other evaluation statistics"
      ]
    },
    {
      "cell_type": "code",
      "metadata": {
        "id": "btJR6zlS2pjJ",
        "colab_type": "code",
        "colab": {
          "base_uri": "https://localhost:8080/",
          "height": 221
        },
        "outputId": "ca73f6b2-f762-4130-c3bd-4e135eb1a838"
      },
      "source": [
        "# Performance evaluation using the classification_report\n",
        "\n",
        "target_names = encoder.inverse_transform(list(set(y_test))) # get real region names back using inverse_transform\n",
        "\n",
        "y_pred = model.predict(X_test) # predict from the testset\n",
        "\n",
        "print(classification_report(y_test, y_pred, target_names=target_names)) #Print out the report"
      ],
      "execution_count": 12,
      "outputs": [
        {
          "output_type": "stream",
          "text": [
            "              precision    recall  f1-score   support\n",
            "\n",
            "      Africa       0.44      0.50      0.47         8\n",
            "    Americas       0.64      0.63      0.64        46\n",
            "        Asia       0.73      0.69      0.71        51\n",
            "      Europe       0.62      0.69      0.65        48\n",
            "     Oceania       1.00      0.33      0.50         3\n",
            "\n",
            "    accuracy                           0.65       156\n",
            "   macro avg       0.69      0.57      0.59       156\n",
            "weighted avg       0.66      0.65      0.65       156\n",
            "\n"
          ],
          "name": "stdout"
        }
      ]
    },
    {
      "cell_type": "markdown",
      "metadata": {
        "id": "tNAbnJtL3SdX",
        "colab_type": "text"
      },
      "source": [
        "Logistic regression is not doing too well. It is particularly bad when predicting African cities.\n",
        "\n",
        "Here the recall score is perhaps more interesting than the precision score.\n",
        "\n",
        "#### Let's inspect the performance visually"
      ]
    },
    {
      "cell_type": "code",
      "metadata": {
        "id": "tYhRTfaE6Rz9",
        "colab_type": "code",
        "colab": {
          "base_uri": "https://localhost:8080/",
          "height": 394
        },
        "outputId": "1297ddc6-b484-43a2-c4ed-5ebfee1ec07c"
      },
      "source": [
        "# For that we need to install an updated version of the MLxtend library (it will make plotting of the confusion matrix easy)\n",
        "!pip install -U mlxtend"
      ],
      "execution_count": 13,
      "outputs": [
        {
          "output_type": "stream",
          "text": [
            "Collecting mlxtend\n",
            "\u001b[?25l  Downloading https://files.pythonhosted.org/packages/52/04/c362f34f666f0ddc7cf593805e64d64fa670ed96fd9302e68549dd48287d/mlxtend-0.17.0-py2.py3-none-any.whl (1.3MB)\n",
            "\r\u001b[K     |▎                               | 10kB 12.4MB/s eta 0:00:01\r\u001b[K     |▌                               | 20kB 6.8MB/s eta 0:00:01\r\u001b[K     |▊                               | 30kB 9.5MB/s eta 0:00:01\r\u001b[K     |█                               | 40kB 6.0MB/s eta 0:00:01\r\u001b[K     |█▎                              | 51kB 7.3MB/s eta 0:00:01\r\u001b[K     |█▌                              | 61kB 8.5MB/s eta 0:00:01\r\u001b[K     |█▊                              | 71kB 9.7MB/s eta 0:00:01\r\u001b[K     |██                              | 81kB 10.7MB/s eta 0:00:01\r\u001b[K     |██▏                             | 92kB 11.9MB/s eta 0:00:01\r\u001b[K     |██▌                             | 102kB 9.5MB/s eta 0:00:01\r\u001b[K     |██▊                             | 112kB 9.5MB/s eta 0:00:01\r\u001b[K     |███                             | 122kB 9.5MB/s eta 0:00:01\r\u001b[K     |███▏                            | 133kB 9.5MB/s eta 0:00:01\r\u001b[K     |███▍                            | 143kB 9.5MB/s eta 0:00:01\r\u001b[K     |███▊                            | 153kB 9.5MB/s eta 0:00:01\r\u001b[K     |████                            | 163kB 9.5MB/s eta 0:00:01\r\u001b[K     |████▏                           | 174kB 9.5MB/s eta 0:00:01\r\u001b[K     |████▍                           | 184kB 9.5MB/s eta 0:00:01\r\u001b[K     |████▊                           | 194kB 9.5MB/s eta 0:00:01\r\u001b[K     |█████                           | 204kB 9.5MB/s eta 0:00:01\r\u001b[K     |█████▏                          | 215kB 9.5MB/s eta 0:00:01\r\u001b[K     |█████▍                          | 225kB 9.5MB/s eta 0:00:01\r\u001b[K     |█████▋                          | 235kB 9.5MB/s eta 0:00:01\r\u001b[K     |██████                          | 245kB 9.5MB/s eta 0:00:01\r\u001b[K     |██████▏                         | 256kB 9.5MB/s eta 0:00:01\r\u001b[K     |██████▍                         | 266kB 9.5MB/s eta 0:00:01\r\u001b[K     |██████▋                         | 276kB 9.5MB/s eta 0:00:01\r\u001b[K     |██████▉                         | 286kB 9.5MB/s eta 0:00:01\r\u001b[K     |███████▏                        | 296kB 9.5MB/s eta 0:00:01\r\u001b[K     |███████▍                        | 307kB 9.5MB/s eta 0:00:01\r\u001b[K     |███████▋                        | 317kB 9.5MB/s eta 0:00:01\r\u001b[K     |███████▉                        | 327kB 9.5MB/s eta 0:00:01\r\u001b[K     |████████                        | 337kB 9.5MB/s eta 0:00:01\r\u001b[K     |████████▍                       | 348kB 9.5MB/s eta 0:00:01\r\u001b[K     |████████▋                       | 358kB 9.5MB/s eta 0:00:01\r\u001b[K     |████████▉                       | 368kB 9.5MB/s eta 0:00:01\r\u001b[K     |█████████                       | 378kB 9.5MB/s eta 0:00:01\r\u001b[K     |█████████▍                      | 389kB 9.5MB/s eta 0:00:01\r\u001b[K     |█████████▋                      | 399kB 9.5MB/s eta 0:00:01\r\u001b[K     |█████████▉                      | 409kB 9.5MB/s eta 0:00:01\r\u001b[K     |██████████                      | 419kB 9.5MB/s eta 0:00:01\r\u001b[K     |██████████▎                     | 430kB 9.5MB/s eta 0:00:01\r\u001b[K     |██████████▋                     | 440kB 9.5MB/s eta 0:00:01\r\u001b[K     |██████████▉                     | 450kB 9.5MB/s eta 0:00:01\r\u001b[K     |███████████                     | 460kB 9.5MB/s eta 0:00:01\r\u001b[K     |███████████▎                    | 471kB 9.5MB/s eta 0:00:01\r\u001b[K     |███████████▌                    | 481kB 9.5MB/s eta 0:00:01\r\u001b[K     |███████████▉                    | 491kB 9.5MB/s eta 0:00:01\r\u001b[K     |████████████                    | 501kB 9.5MB/s eta 0:00:01\r\u001b[K     |████████████▎                   | 512kB 9.5MB/s eta 0:00:01\r\u001b[K     |████████████▌                   | 522kB 9.5MB/s eta 0:00:01\r\u001b[K     |████████████▊                   | 532kB 9.5MB/s eta 0:00:01\r\u001b[K     |█████████████                   | 542kB 9.5MB/s eta 0:00:01\r\u001b[K     |█████████████▎                  | 552kB 9.5MB/s eta 0:00:01\r\u001b[K     |█████████████▌                  | 563kB 9.5MB/s eta 0:00:01\r\u001b[K     |█████████████▊                  | 573kB 9.5MB/s eta 0:00:01\r\u001b[K     |██████████████                  | 583kB 9.5MB/s eta 0:00:01\r\u001b[K     |██████████████▎                 | 593kB 9.5MB/s eta 0:00:01\r\u001b[K     |██████████████▌                 | 604kB 9.5MB/s eta 0:00:01\r\u001b[K     |██████████████▊                 | 614kB 9.5MB/s eta 0:00:01\r\u001b[K     |███████████████                 | 624kB 9.5MB/s eta 0:00:01\r\u001b[K     |███████████████▎                | 634kB 9.5MB/s eta 0:00:01\r\u001b[K     |███████████████▌                | 645kB 9.5MB/s eta 0:00:01\r\u001b[K     |███████████████▊                | 655kB 9.5MB/s eta 0:00:01\r\u001b[K     |████████████████                | 665kB 9.5MB/s eta 0:00:01\r\u001b[K     |████████████████▏               | 675kB 9.5MB/s eta 0:00:01\r\u001b[K     |████████████████▌               | 686kB 9.5MB/s eta 0:00:01\r\u001b[K     |████████████████▊               | 696kB 9.5MB/s eta 0:00:01\r\u001b[K     |█████████████████               | 706kB 9.5MB/s eta 0:00:01\r\u001b[K     |█████████████████▏              | 716kB 9.5MB/s eta 0:00:01\r\u001b[K     |█████████████████▍              | 727kB 9.5MB/s eta 0:00:01\r\u001b[K     |█████████████████▊              | 737kB 9.5MB/s eta 0:00:01\r\u001b[K     |██████████████████              | 747kB 9.5MB/s eta 0:00:01\r\u001b[K     |██████████████████▏             | 757kB 9.5MB/s eta 0:00:01\r\u001b[K     |██████████████████▍             | 768kB 9.5MB/s eta 0:00:01\r\u001b[K     |██████████████████▊             | 778kB 9.5MB/s eta 0:00:01\r\u001b[K     |███████████████████             | 788kB 9.5MB/s eta 0:00:01\r\u001b[K     |███████████████████▏            | 798kB 9.5MB/s eta 0:00:01\r\u001b[K     |███████████████████▍            | 808kB 9.5MB/s eta 0:00:01\r\u001b[K     |███████████████████▋            | 819kB 9.5MB/s eta 0:00:01\r\u001b[K     |████████████████████            | 829kB 9.5MB/s eta 0:00:01\r\u001b[K     |████████████████████▏           | 839kB 9.5MB/s eta 0:00:01\r\u001b[K     |████████████████████▍           | 849kB 9.5MB/s eta 0:00:01\r\u001b[K     |████████████████████▋           | 860kB 9.5MB/s eta 0:00:01\r\u001b[K     |████████████████████▉           | 870kB 9.5MB/s eta 0:00:01\r\u001b[K     |█████████████████████▏          | 880kB 9.5MB/s eta 0:00:01\r\u001b[K     |█████████████████████▍          | 890kB 9.5MB/s eta 0:00:01\r\u001b[K     |█████████████████████▋          | 901kB 9.5MB/s eta 0:00:01\r\u001b[K     |█████████████████████▉          | 911kB 9.5MB/s eta 0:00:01\r\u001b[K     |██████████████████████          | 921kB 9.5MB/s eta 0:00:01\r\u001b[K     |██████████████████████▍         | 931kB 9.5MB/s eta 0:00:01\r\u001b[K     |██████████████████████▋         | 942kB 9.5MB/s eta 0:00:01\r\u001b[K     |██████████████████████▉         | 952kB 9.5MB/s eta 0:00:01\r\u001b[K     |███████████████████████         | 962kB 9.5MB/s eta 0:00:01\r\u001b[K     |███████████████████████▍        | 972kB 9.5MB/s eta 0:00:01\r\u001b[K     |███████████████████████▋        | 983kB 9.5MB/s eta 0:00:01\r\u001b[K     |███████████████████████▉        | 993kB 9.5MB/s eta 0:00:01\r\u001b[K     |████████████████████████        | 1.0MB 9.5MB/s eta 0:00:01\r\u001b[K     |████████████████████████▎       | 1.0MB 9.5MB/s eta 0:00:01\r\u001b[K     |████████████████████████▋       | 1.0MB 9.5MB/s eta 0:00:01\r\u001b[K     |████████████████████████▉       | 1.0MB 9.5MB/s eta 0:00:01\r\u001b[K     |█████████████████████████       | 1.0MB 9.5MB/s eta 0:00:01\r\u001b[K     |█████████████████████████▎      | 1.1MB 9.5MB/s eta 0:00:01\r\u001b[K     |█████████████████████████▌      | 1.1MB 9.5MB/s eta 0:00:01\r\u001b[K     |█████████████████████████▉      | 1.1MB 9.5MB/s eta 0:00:01\r\u001b[K     |██████████████████████████      | 1.1MB 9.5MB/s eta 0:00:01\r\u001b[K     |██████████████████████████▎     | 1.1MB 9.5MB/s eta 0:00:01\r\u001b[K     |██████████████████████████▌     | 1.1MB 9.5MB/s eta 0:00:01\r\u001b[K     |██████████████████████████▊     | 1.1MB 9.5MB/s eta 0:00:01\r\u001b[K     |███████████████████████████     | 1.1MB 9.5MB/s eta 0:00:01\r\u001b[K     |███████████████████████████▎    | 1.1MB 9.5MB/s eta 0:00:01\r\u001b[K     |███████████████████████████▌    | 1.1MB 9.5MB/s eta 0:00:01\r\u001b[K     |███████████████████████████▊    | 1.2MB 9.5MB/s eta 0:00:01\r\u001b[K     |████████████████████████████    | 1.2MB 9.5MB/s eta 0:00:01\r\u001b[K     |████████████████████████████▎   | 1.2MB 9.5MB/s eta 0:00:01\r\u001b[K     |████████████████████████████▌   | 1.2MB 9.5MB/s eta 0:00:01\r\u001b[K     |████████████████████████████▊   | 1.2MB 9.5MB/s eta 0:00:01\r\u001b[K     |█████████████████████████████   | 1.2MB 9.5MB/s eta 0:00:01\r\u001b[K     |█████████████████████████████▎  | 1.2MB 9.5MB/s eta 0:00:01\r\u001b[K     |█████████████████████████████▌  | 1.2MB 9.5MB/s eta 0:00:01\r\u001b[K     |█████████████████████████████▊  | 1.2MB 9.5MB/s eta 0:00:01\r\u001b[K     |██████████████████████████████  | 1.2MB 9.5MB/s eta 0:00:01\r\u001b[K     |██████████████████████████████▏ | 1.3MB 9.5MB/s eta 0:00:01\r\u001b[K     |██████████████████████████████▌ | 1.3MB 9.5MB/s eta 0:00:01\r\u001b[K     |██████████████████████████████▊ | 1.3MB 9.5MB/s eta 0:00:01\r\u001b[K     |███████████████████████████████ | 1.3MB 9.5MB/s eta 0:00:01\r\u001b[K     |███████████████████████████████▏| 1.3MB 9.5MB/s eta 0:00:01\r\u001b[K     |███████████████████████████████▌| 1.3MB 9.5MB/s eta 0:00:01\r\u001b[K     |███████████████████████████████▊| 1.3MB 9.5MB/s eta 0:00:01\r\u001b[K     |████████████████████████████████| 1.3MB 9.5MB/s eta 0:00:01\r\u001b[K     |████████████████████████████████| 1.3MB 9.5MB/s \n",
            "\u001b[?25hRequirement already satisfied, skipping upgrade: setuptools in /usr/local/lib/python3.6/dist-packages (from mlxtend) (41.2.0)\n",
            "Requirement already satisfied, skipping upgrade: joblib>=0.13.2 in /usr/local/lib/python3.6/dist-packages (from mlxtend) (0.13.2)\n",
            "Requirement already satisfied, skipping upgrade: numpy>=1.16.2 in /usr/local/lib/python3.6/dist-packages (from mlxtend) (1.16.5)\n",
            "Requirement already satisfied, skipping upgrade: pandas>=0.24.2 in /usr/local/lib/python3.6/dist-packages (from mlxtend) (0.24.2)\n",
            "Requirement already satisfied, skipping upgrade: scipy>=1.2.1 in /usr/local/lib/python3.6/dist-packages (from mlxtend) (1.3.1)\n",
            "Requirement already satisfied, skipping upgrade: scikit-learn>=0.20.3 in /usr/local/lib/python3.6/dist-packages (from mlxtend) (0.21.3)\n",
            "Requirement already satisfied, skipping upgrade: matplotlib>=3.0.0 in /usr/local/lib/python3.6/dist-packages (from mlxtend) (3.0.3)\n",
            "Requirement already satisfied, skipping upgrade: pytz>=2011k in /usr/local/lib/python3.6/dist-packages (from pandas>=0.24.2->mlxtend) (2018.9)\n",
            "Requirement already satisfied, skipping upgrade: python-dateutil>=2.5.0 in /usr/local/lib/python3.6/dist-packages (from pandas>=0.24.2->mlxtend) (2.5.3)\n",
            "Requirement already satisfied, skipping upgrade: pyparsing!=2.0.4,!=2.1.2,!=2.1.6,>=2.0.1 in /usr/local/lib/python3.6/dist-packages (from matplotlib>=3.0.0->mlxtend) (2.4.2)\n",
            "Requirement already satisfied, skipping upgrade: cycler>=0.10 in /usr/local/lib/python3.6/dist-packages (from matplotlib>=3.0.0->mlxtend) (0.10.0)\n",
            "Requirement already satisfied, skipping upgrade: kiwisolver>=1.0.1 in /usr/local/lib/python3.6/dist-packages (from matplotlib>=3.0.0->mlxtend) (1.1.0)\n",
            "Requirement already satisfied, skipping upgrade: six>=1.5 in /usr/local/lib/python3.6/dist-packages (from python-dateutil>=2.5.0->pandas>=0.24.2->mlxtend) (1.12.0)\n",
            "Installing collected packages: mlxtend\n",
            "  Found existing installation: mlxtend 0.14.0\n",
            "    Uninstalling mlxtend-0.14.0:\n",
            "      Successfully uninstalled mlxtend-0.14.0\n",
            "Successfully installed mlxtend-0.17.0\n"
          ],
          "name": "stdout"
        }
      ]
    },
    {
      "cell_type": "code",
      "metadata": {
        "id": "5l8tLiTa3dhd",
        "colab_type": "code",
        "colab": {}
      },
      "source": [
        "# Import the confusion matrix plotter module\n",
        "from mlxtend.plotting import plot_confusion_matrix\n",
        "\n",
        "# We will also import sklearns confusion matrix module that will make it easy to produce a confusion matrix\n",
        "# It's actually just a cross-tab of predicted vs. real values\n",
        "from sklearn.metrics import confusion_matrix"
      ],
      "execution_count": 0,
      "outputs": []
    },
    {
      "cell_type": "code",
      "metadata": {
        "id": "6jY11XzX4NlH",
        "colab_type": "code",
        "colab": {
          "base_uri": "https://localhost:8080/",
          "height": 636
        },
        "outputId": "dfb46cc8-9f4c-4051-a54d-9c84b9b6e1ca"
      },
      "source": [
        "# calculate the confusion matrix\n",
        "confmatrix = confusion_matrix(y_test,y_pred) \n",
        "\n",
        "# Let's plot\n",
        "plot_confusion_matrix(conf_mat=confmatrix,\n",
        "                                colorbar=True,\n",
        "                                show_absolute=True,\n",
        "                                show_normed=True,\n",
        "                                class_names = target_names)"
      ],
      "execution_count": 25,
      "outputs": [
        {
          "output_type": "execute_result",
          "data": {
            "text/plain": [
              "(<Figure size 720x720 with 2 Axes>,\n",
              " <matplotlib.axes._subplots.AxesSubplot at 0x7f6ebb111da0>)"
            ]
          },
          "metadata": {
            "tags": []
          },
          "execution_count": 25
        },
        {
          "output_type": "display_data",
          "data": {
            "image/png": "[encoded data removed]",
            "text/plain": [
              "<Figure size 720x720 with 2 Axes>"
            ]
          },
          "metadata": {
            "tags": []
          }
        }
      ]
    },
    {
      "cell_type": "markdown",
      "metadata": {
        "id": "dJvCdog_86Z1",
        "colab_type": "text"
      },
      "source": [
        "As you can see, the model struggeled a lot with African cities and places in Oceania. That is probably also because those are not too many in the data and thus it is hard for the model to learn abot their characteristics.\n",
        "\n",
        "Some vities form the Americas have been placed in Europe (probably places like Boston or cities in Latinamerica that are similar to Southern Europe). It's an interesting exercise to explore misplaced observations..."
      ]
    },
    {
      "cell_type": "markdown",
      "metadata": {
        "id": "rx7O9HX18iZJ",
        "colab_type": "text"
      },
      "source": [
        "### Random Forest\n",
        "Now we can try out a more complex model (and hopefully more powerfull)\n",
        "The process is exactly the same and thus there are not too many comments in the code"
      ]
    },
    {
      "cell_type": "code",
      "metadata": {
        "id": "LMiwIBac0IIx",
        "colab_type": "code",
        "outputId": "7c949052-40ea-4f61-b429-04c96e43f774",
        "colab": {
          "base_uri": "https://localhost:8080/",
          "height": 275
        }
      },
      "source": [
        "from sklearn.ensemble import RandomForestClassifier\n",
        "\n",
        "model = RandomForestClassifier()\n",
        "\n",
        "scores = cross_val_score(model, X_train, y_train, cv = 5)\n",
        "print(scores)\n",
        "\n",
        "model.fit(X_train, y_train)\n",
        "print(model.score(X_test, y_test))"
      ],
      "execution_count": 26,
      "outputs": [
        {
          "output_type": "stream",
          "text": [
            "[0.83464567 0.79365079 0.80645161 0.79032258 0.86178862]\n",
            "0.8333333333333334\n"
          ],
          "name": "stdout"
        },
        {
          "output_type": "stream",
          "text": [
            "/usr/local/lib/python3.6/dist-packages/sklearn/ensemble/forest.py:245: FutureWarning: The default value of n_estimators will change from 10 in version 0.20 to 100 in 0.22.\n",
            "  \"10 in version 0.20 to 100 in 0.22.\", FutureWarning)\n",
            "/usr/local/lib/python3.6/dist-packages/sklearn/ensemble/forest.py:245: FutureWarning: The default value of n_estimators will change from 10 in version 0.20 to 100 in 0.22.\n",
            "  \"10 in version 0.20 to 100 in 0.22.\", FutureWarning)\n",
            "/usr/local/lib/python3.6/dist-packages/sklearn/ensemble/forest.py:245: FutureWarning: The default value of n_estimators will change from 10 in version 0.20 to 100 in 0.22.\n",
            "  \"10 in version 0.20 to 100 in 0.22.\", FutureWarning)\n",
            "/usr/local/lib/python3.6/dist-packages/sklearn/ensemble/forest.py:245: FutureWarning: The default value of n_estimators will change from 10 in version 0.20 to 100 in 0.22.\n",
            "  \"10 in version 0.20 to 100 in 0.22.\", FutureWarning)\n",
            "/usr/local/lib/python3.6/dist-packages/sklearn/ensemble/forest.py:245: FutureWarning: The default value of n_estimators will change from 10 in version 0.20 to 100 in 0.22.\n",
            "  \"10 in version 0.20 to 100 in 0.22.\", FutureWarning)\n",
            "/usr/local/lib/python3.6/dist-packages/sklearn/ensemble/forest.py:245: FutureWarning: The default value of n_estimators will change from 10 in version 0.20 to 100 in 0.22.\n",
            "  \"10 in version 0.20 to 100 in 0.22.\", FutureWarning)\n"
          ],
          "name": "stderr"
        }
      ]
    },
    {
      "cell_type": "markdown",
      "metadata": {
        "id": "vKicrTyE93iN",
        "colab_type": "text"
      },
      "source": [
        "The test-score is well within the values produced in the crossvalidation\n",
        "Overall performance goes up (as expected)"
      ]
    },
    {
      "cell_type": "code",
      "metadata": {
        "id": "d9Ce060X-FOU",
        "colab_type": "code",
        "colab": {
          "base_uri": "https://localhost:8080/",
          "height": 221
        },
        "outputId": "1ae35456-db71-40d5-cb09-c2a1a4685b4e"
      },
      "source": [
        "# Performance evaluation using the classification_report\n",
        "\n",
        "target_names = encoder.inverse_transform(list(set(y_test))) # get real region names back using inverse_transform\n",
        "\n",
        "y_pred = model.predict(X_test) # predict from the testset\n",
        "\n",
        "print(classification_report(y_test, y_pred, target_names=target_names)) #Print out the report"
      ],
      "execution_count": 27,
      "outputs": [
        {
          "output_type": "stream",
          "text": [
            "              precision    recall  f1-score   support\n",
            "\n",
            "      Africa       0.22      0.25      0.24         8\n",
            "    Americas       0.83      0.87      0.85        46\n",
            "        Asia       0.89      0.82      0.86        51\n",
            "      Europe       0.88      0.94      0.91        48\n",
            "     Oceania       1.00      0.33      0.50         3\n",
            "\n",
            "    accuracy                           0.83       156\n",
            "   macro avg       0.77      0.64      0.67       156\n",
            "weighted avg       0.84      0.83      0.83       156\n",
            "\n"
          ],
          "name": "stdout"
        }
      ]
    },
    {
      "cell_type": "code",
      "metadata": {
        "id": "2imM0GCy-bTi",
        "colab_type": "code",
        "colab": {
          "base_uri": "https://localhost:8080/",
          "height": 636
        },
        "outputId": "5b36e1e6-abef-4f3c-c82a-03fc863df129"
      },
      "source": [
        "# calculate the confusion matrix\n",
        "confmatrix = confusion_matrix(y_test,y_pred) \n",
        "\n",
        "# Let's plot\n",
        "plot_confusion_matrix(conf_mat=confmatrix,\n",
        "                                colorbar=True,\n",
        "                                show_absolute=True,\n",
        "                                show_normed=True,\n",
        "                                class_names = target_names)"
      ],
      "execution_count": 28,
      "outputs": [
        {
          "output_type": "execute_result",
          "data": {
            "text/plain": [
              "(<Figure size 720x720 with 2 Axes>,\n",
              " <matplotlib.axes._subplots.AxesSubplot at 0x7f6eb93357f0>)"
            ]
          },
          "metadata": {
            "tags": []
          },
          "execution_count": 28
        },
        {
          "output_type": "display_data",
          "data": {
            "image/png": "[encoded data removed]",
            "text/plain": [
              "<Figure size 720x720 with 2 Axes>"
            ]
          },
          "metadata": {
            "tags": []
          }
        }
      ]
    },
    {
      "cell_type": "markdown",
      "metadata": {
        "id": "3wHrBf9k-Kqv",
        "colab_type": "text"
      },
      "source": [
        "While the model is better at classification of the lartger groups, performance is the same for Oceania and goes down for Africa"
      ]
    },
    {
      "cell_type": "markdown",
      "metadata": {
        "id": "LqzC6lTo-t6i",
        "colab_type": "text"
      },
      "source": [
        "### Catboost\n",
        "Let's try out a new algorithm that promises particularly good performance on large datasets (not our case here), categorical data and has easy GPU integration\n",
        "It's not part of the Colab-packages and we need to install it"
      ]
    },
    {
      "cell_type": "code",
      "metadata": {
        "id": "1j2-bU6i084x",
        "colab_type": "code",
        "outputId": "79072949-df3b-4f49-ba28-0c9e89300401",
        "colab": {
          "base_uri": "https://localhost:8080/",
          "height": 360
        }
      },
      "source": [
        "# Install catboost\n",
        "!pip install catboost"
      ],
      "execution_count": 29,
      "outputs": [
        {
          "output_type": "stream",
          "text": [
            "Collecting catboost\n",
            "\u001b[?25l  Downloading https://files.pythonhosted.org/packages/40/83/5974e19d4d040442543e1e4eafa5ebb1c7ef396cbc53ea1084193d311d62/catboost-0.17.1-cp36-none-manylinux1_x86_64.whl (62.5MB)\n",
            "\u001b[K     |████████████████████████████████| 62.5MB 1.3MB/s \n",
            "\u001b[?25hRequirement already satisfied: graphviz in /usr/local/lib/python3.6/dist-packages (from catboost) (0.10.1)\n",
            "Requirement already satisfied: plotly in /usr/local/lib/python3.6/dist-packages (from catboost) (4.1.1)\n",
            "Requirement already satisfied: pandas>=0.24.0 in /usr/local/lib/python3.6/dist-packages (from catboost) (0.24.2)\n",
            "Requirement already satisfied: numpy>=1.16.0 in /usr/local/lib/python3.6/dist-packages (from catboost) (1.16.5)\n",
            "Requirement already satisfied: matplotlib in /usr/local/lib/python3.6/dist-packages (from catboost) (3.0.3)\n",
            "Requirement already satisfied: scipy in /usr/local/lib/python3.6/dist-packages (from catboost) (1.3.1)\n",
            "Requirement already satisfied: six in /usr/local/lib/python3.6/dist-packages (from catboost) (1.12.0)\n",
            "Requirement already satisfied: retrying>=1.3.3 in /usr/local/lib/python3.6/dist-packages (from plotly->catboost) (1.3.3)\n",
            "Requirement already satisfied: python-dateutil>=2.5.0 in /usr/local/lib/python3.6/dist-packages (from pandas>=0.24.0->catboost) (2.5.3)\n",
            "Requirement already satisfied: pytz>=2011k in /usr/local/lib/python3.6/dist-packages (from pandas>=0.24.0->catboost) (2018.9)\n",
            "Requirement already satisfied: kiwisolver>=1.0.1 in /usr/local/lib/python3.6/dist-packages (from matplotlib->catboost) (1.1.0)\n",
            "Requirement already satisfied: cycler>=0.10 in /usr/local/lib/python3.6/dist-packages (from matplotlib->catboost) (0.10.0)\n",
            "Requirement already satisfied: pyparsing!=2.0.4,!=2.1.2,!=2.1.6,>=2.0.1 in /usr/local/lib/python3.6/dist-packages (from matplotlib->catboost) (2.4.2)\n",
            "Requirement already satisfied: setuptools in /usr/local/lib/python3.6/dist-packages (from kiwisolver>=1.0.1->matplotlib->catboost) (41.2.0)\n",
            "Installing collected packages: catboost\n",
            "Successfully installed catboost-0.17.1\n"
          ],
          "name": "stdout"
        }
      ]
    },
    {
      "cell_type": "code",
      "metadata": {
        "id": "le7cVPom1Etw",
        "colab_type": "code",
        "outputId": "f5abdb92-b5c9-4093-dfd9-9ae9e6aada15",
        "colab": {
          "base_uri": "https://localhost:8080/",
          "height": 1000
        }
      },
      "source": [
        "\n",
        "from catboost import CatBoostClassifier\n",
        "\n",
        "model = CatBoostClassifier(tas)\n",
        "\n",
        "# model = CatBoostClassifier(task_type = 'GPU') # use that instead for GPU support (when GPU enabled in the system - in colab \"change runtime type\")\n",
        "\n",
        "# To save time we will drop k-fold crossvalidation here by commenting out (you are welcome to enable it again)\n",
        "#scores = cross_val_score(model, X_train, y_train, cv = 5)\n",
        "#print(scores)\n",
        "\n",
        "\n",
        "model.fit(X_train, y_train) # ~1min on CPU and ~10sec. if GPU enabled \n",
        "print(model.score(X_test, y_test))"
      ],
      "execution_count": 30,
      "outputs": [
        {
          "output_type": "stream",
          "text": [
            "0:\tlearn: 1.5786712\ttotal: 115ms\tremaining: 1m 54s\n",
            "1:\tlearn: 1.5408447\ttotal: 161ms\tremaining: 1m 20s\n",
            "2:\tlearn: 1.5113996\ttotal: 208ms\tremaining: 1m 9s\n",
            "3:\tlearn: 1.4829563\ttotal: 255ms\tremaining: 1m 3s\n",
            "4:\tlearn: 1.4501951\ttotal: 304ms\tremaining: 1m\n",
            "5:\tlearn: 1.4254289\ttotal: 355ms\tremaining: 58.8s\n",
            "6:\tlearn: 1.4003028\ttotal: 401ms\tremaining: 56.9s\n",
            "7:\tlearn: 1.3766126\ttotal: 448ms\tremaining: 55.5s\n",
            "8:\tlearn: 1.3527302\ttotal: 494ms\tremaining: 54.4s\n",
            "9:\tlearn: 1.3282556\ttotal: 541ms\tremaining: 53.6s\n",
            "10:\tlearn: 1.3087822\ttotal: 590ms\tremaining: 53.1s\n",
            "11:\tlearn: 1.2887410\ttotal: 637ms\tremaining: 52.5s\n",
            "12:\tlearn: 1.2710231\ttotal: 683ms\tremaining: 51.9s\n",
            "13:\tlearn: 1.2462607\ttotal: 731ms\tremaining: 51.5s\n",
            "14:\tlearn: 1.2274949\ttotal: 779ms\tremaining: 51.2s\n",
            "15:\tlearn: 1.2122855\ttotal: 831ms\tremaining: 51.1s\n",
            "16:\tlearn: 1.1947286\ttotal: 878ms\tremaining: 50.8s\n",
            "17:\tlearn: 1.1789469\ttotal: 924ms\tremaining: 50.4s\n",
            "18:\tlearn: 1.1625459\ttotal: 971ms\tremaining: 50.1s\n",
            "19:\tlearn: 1.1504358\ttotal: 1.02s\tremaining: 49.9s\n",
            "20:\tlearn: 1.1353140\ttotal: 1.07s\tremaining: 49.8s\n",
            "21:\tlearn: 1.1192719\ttotal: 1.11s\tremaining: 49.6s\n",
            "22:\tlearn: 1.1017650\ttotal: 1.16s\tremaining: 49.5s\n",
            "23:\tlearn: 1.0913802\ttotal: 1.21s\tremaining: 49.3s\n",
            "24:\tlearn: 1.0801811\ttotal: 1.26s\tremaining: 49.1s\n",
            "25:\tlearn: 1.0685538\ttotal: 1.31s\tremaining: 49s\n",
            "26:\tlearn: 1.0567851\ttotal: 1.35s\tremaining: 48.9s\n",
            "27:\tlearn: 1.0474992\ttotal: 1.4s\tremaining: 48.7s\n",
            "28:\tlearn: 1.0379919\ttotal: 1.46s\tremaining: 48.9s\n",
            "29:\tlearn: 1.0287563\ttotal: 1.51s\tremaining: 49s\n",
            "30:\tlearn: 1.0188500\ttotal: 1.56s\tremaining: 48.8s\n",
            "31:\tlearn: 1.0062681\ttotal: 1.61s\tremaining: 48.7s\n",
            "32:\tlearn: 0.9958187\ttotal: 1.66s\tremaining: 48.5s\n",
            "33:\tlearn: 0.9868765\ttotal: 1.7s\tremaining: 48.4s\n",
            "34:\tlearn: 0.9741644\ttotal: 1.75s\tremaining: 48.3s\n",
            "35:\tlearn: 0.9644059\ttotal: 1.8s\tremaining: 48.2s\n",
            "36:\tlearn: 0.9566657\ttotal: 1.85s\tremaining: 48.2s\n",
            "37:\tlearn: 0.9452906\ttotal: 1.9s\tremaining: 48.1s\n",
            "38:\tlearn: 0.9350792\ttotal: 1.95s\tremaining: 48s\n",
            "39:\tlearn: 0.9279688\ttotal: 2.01s\tremaining: 48.2s\n",
            "40:\tlearn: 0.9212348\ttotal: 2.07s\tremaining: 48.4s\n",
            "41:\tlearn: 0.9158892\ttotal: 2.13s\tremaining: 48.5s\n",
            "42:\tlearn: 0.9084704\ttotal: 2.18s\tremaining: 48.6s\n",
            "43:\tlearn: 0.8985592\ttotal: 2.25s\tremaining: 48.9s\n",
            "44:\tlearn: 0.8912044\ttotal: 2.28s\tremaining: 48.4s\n",
            "45:\tlearn: 0.8842927\ttotal: 2.34s\tremaining: 48.5s\n",
            "46:\tlearn: 0.8769201\ttotal: 2.4s\tremaining: 48.6s\n",
            "47:\tlearn: 0.8724094\ttotal: 2.46s\tremaining: 48.8s\n",
            "48:\tlearn: 0.8648345\ttotal: 2.52s\tremaining: 48.8s\n",
            "49:\tlearn: 0.8582514\ttotal: 2.57s\tremaining: 48.9s\n",
            "50:\tlearn: 0.8520835\ttotal: 2.63s\tremaining: 49s\n",
            "51:\tlearn: 0.8463263\ttotal: 2.7s\tremaining: 49.2s\n",
            "52:\tlearn: 0.8379726\ttotal: 2.75s\tremaining: 49.2s\n",
            "53:\tlearn: 0.8307652\ttotal: 2.81s\tremaining: 49.3s\n",
            "54:\tlearn: 0.8249975\ttotal: 2.87s\tremaining: 49.3s\n",
            "55:\tlearn: 0.8187893\ttotal: 2.93s\tremaining: 49.4s\n",
            "56:\tlearn: 0.8132162\ttotal: 2.98s\tremaining: 49.3s\n",
            "57:\tlearn: 0.8069240\ttotal: 3.03s\tremaining: 49.2s\n",
            "58:\tlearn: 0.7983101\ttotal: 3.08s\tremaining: 49.1s\n",
            "59:\tlearn: 0.7949389\ttotal: 3.12s\tremaining: 48.9s\n",
            "60:\tlearn: 0.7903497\ttotal: 3.17s\tremaining: 48.9s\n",
            "61:\tlearn: 0.7837675\ttotal: 3.22s\tremaining: 48.8s\n",
            "62:\tlearn: 0.7771737\ttotal: 3.27s\tremaining: 48.6s\n",
            "63:\tlearn: 0.7732369\ttotal: 3.32s\tremaining: 48.5s\n",
            "64:\tlearn: 0.7694606\ttotal: 3.36s\tremaining: 48.4s\n",
            "65:\tlearn: 0.7649942\ttotal: 3.42s\tremaining: 48.3s\n",
            "66:\tlearn: 0.7596573\ttotal: 3.46s\tremaining: 48.2s\n",
            "67:\tlearn: 0.7531393\ttotal: 3.51s\tremaining: 48.1s\n",
            "68:\tlearn: 0.7499145\ttotal: 3.55s\tremaining: 48s\n",
            "69:\tlearn: 0.7461975\ttotal: 3.6s\tremaining: 47.8s\n",
            "70:\tlearn: 0.7430572\ttotal: 3.65s\tremaining: 47.8s\n",
            "71:\tlearn: 0.7399844\ttotal: 3.7s\tremaining: 47.7s\n",
            "72:\tlearn: 0.7360168\ttotal: 3.75s\tremaining: 47.6s\n",
            "73:\tlearn: 0.7330811\ttotal: 3.79s\tremaining: 47.5s\n",
            "74:\tlearn: 0.7298267\ttotal: 3.84s\tremaining: 47.4s\n",
            "75:\tlearn: 0.7270430\ttotal: 3.89s\tremaining: 47.3s\n",
            "76:\tlearn: 0.7235289\ttotal: 3.94s\tremaining: 47.3s\n",
            "77:\tlearn: 0.7196823\ttotal: 4s\tremaining: 47.3s\n",
            "78:\tlearn: 0.7171438\ttotal: 4.07s\tremaining: 47.4s\n",
            "79:\tlearn: 0.7114498\ttotal: 4.13s\tremaining: 47.5s\n",
            "80:\tlearn: 0.7073135\ttotal: 4.19s\tremaining: 47.5s\n",
            "81:\tlearn: 0.7031752\ttotal: 4.25s\tremaining: 47.6s\n",
            "82:\tlearn: 0.7010091\ttotal: 4.3s\tremaining: 47.6s\n",
            "83:\tlearn: 0.6968242\ttotal: 4.37s\tremaining: 47.6s\n",
            "84:\tlearn: 0.6931100\ttotal: 4.43s\tremaining: 47.7s\n",
            "85:\tlearn: 0.6892413\ttotal: 4.48s\tremaining: 47.7s\n",
            "86:\tlearn: 0.6831523\ttotal: 4.54s\tremaining: 47.7s\n",
            "87:\tlearn: 0.6802040\ttotal: 4.61s\tremaining: 47.7s\n",
            "88:\tlearn: 0.6763274\ttotal: 4.67s\tremaining: 47.8s\n",
            "89:\tlearn: 0.6741010\ttotal: 4.72s\tremaining: 47.8s\n",
            "90:\tlearn: 0.6699359\ttotal: 4.79s\tremaining: 47.8s\n",
            "91:\tlearn: 0.6660181\ttotal: 4.86s\tremaining: 47.9s\n",
            "92:\tlearn: 0.6611000\ttotal: 4.92s\tremaining: 48s\n",
            "93:\tlearn: 0.6581776\ttotal: 4.96s\tremaining: 47.8s\n",
            "94:\tlearn: 0.6556182\ttotal: 5.01s\tremaining: 47.7s\n",
            "95:\tlearn: 0.6526930\ttotal: 5.06s\tremaining: 47.7s\n",
            "96:\tlearn: 0.6493656\ttotal: 5.11s\tremaining: 47.6s\n",
            "97:\tlearn: 0.6467697\ttotal: 5.16s\tremaining: 47.5s\n",
            "98:\tlearn: 0.6435621\ttotal: 5.2s\tremaining: 47.4s\n",
            "99:\tlearn: 0.6387551\ttotal: 5.25s\tremaining: 47.3s\n",
            "100:\tlearn: 0.6367891\ttotal: 5.3s\tremaining: 47.2s\n",
            "101:\tlearn: 0.6343656\ttotal: 5.36s\tremaining: 47.2s\n",
            "102:\tlearn: 0.6316841\ttotal: 5.4s\tremaining: 47s\n",
            "103:\tlearn: 0.6285881\ttotal: 5.45s\tremaining: 47s\n",
            "104:\tlearn: 0.6240098\ttotal: 5.5s\tremaining: 46.9s\n",
            "105:\tlearn: 0.6200105\ttotal: 5.55s\tremaining: 46.8s\n",
            "106:\tlearn: 0.6161485\ttotal: 5.59s\tremaining: 46.7s\n",
            "107:\tlearn: 0.6133641\ttotal: 5.64s\tremaining: 46.6s\n",
            "108:\tlearn: 0.6096605\ttotal: 5.69s\tremaining: 46.5s\n",
            "109:\tlearn: 0.6064145\ttotal: 5.73s\tremaining: 46.4s\n",
            "110:\tlearn: 0.6044206\ttotal: 5.78s\tremaining: 46.3s\n",
            "111:\tlearn: 0.6015707\ttotal: 5.83s\tremaining: 46.2s\n",
            "112:\tlearn: 0.5988319\ttotal: 5.88s\tremaining: 46.1s\n",
            "113:\tlearn: 0.5957866\ttotal: 5.93s\tremaining: 46.1s\n",
            "114:\tlearn: 0.5922394\ttotal: 5.99s\tremaining: 46.1s\n",
            "115:\tlearn: 0.5898020\ttotal: 6.05s\tremaining: 46.1s\n",
            "116:\tlearn: 0.5870141\ttotal: 6.1s\tremaining: 46.1s\n",
            "117:\tlearn: 0.5838236\ttotal: 6.17s\tremaining: 46.1s\n",
            "118:\tlearn: 0.5808984\ttotal: 6.23s\tremaining: 46.1s\n",
            "119:\tlearn: 0.5782745\ttotal: 6.29s\tremaining: 46.1s\n",
            "120:\tlearn: 0.5764756\ttotal: 6.34s\tremaining: 46.1s\n",
            "121:\tlearn: 0.5733134\ttotal: 6.4s\tremaining: 46.1s\n",
            "122:\tlearn: 0.5698147\ttotal: 6.47s\tremaining: 46.1s\n",
            "123:\tlearn: 0.5656285\ttotal: 6.53s\tremaining: 46.1s\n",
            "124:\tlearn: 0.5639463\ttotal: 6.58s\tremaining: 46.1s\n",
            "125:\tlearn: 0.5622865\ttotal: 6.64s\tremaining: 46.1s\n",
            "126:\tlearn: 0.5598866\ttotal: 6.7s\tremaining: 46.1s\n",
            "127:\tlearn: 0.5576817\ttotal: 6.76s\tremaining: 46.1s\n",
            "128:\tlearn: 0.5566016\ttotal: 6.82s\tremaining: 46.1s\n",
            "129:\tlearn: 0.5541118\ttotal: 6.88s\tremaining: 46s\n",
            "130:\tlearn: 0.5513464\ttotal: 6.94s\tremaining: 46s\n",
            "131:\tlearn: 0.5479426\ttotal: 6.99s\tremaining: 45.9s\n",
            "132:\tlearn: 0.5460793\ttotal: 7.03s\tremaining: 45.8s\n",
            "133:\tlearn: 0.5440778\ttotal: 7.08s\tremaining: 45.8s\n",
            "134:\tlearn: 0.5407041\ttotal: 7.13s\tremaining: 45.7s\n",
            "135:\tlearn: 0.5394361\ttotal: 7.17s\tremaining: 45.6s\n",
            "136:\tlearn: 0.5375873\ttotal: 7.22s\tremaining: 45.5s\n",
            "137:\tlearn: 0.5359479\ttotal: 7.27s\tremaining: 45.4s\n",
            "138:\tlearn: 0.5329566\ttotal: 7.32s\tremaining: 45.3s\n",
            "139:\tlearn: 0.5309553\ttotal: 7.36s\tremaining: 45.2s\n",
            "140:\tlearn: 0.5272804\ttotal: 7.41s\tremaining: 45.2s\n",
            "141:\tlearn: 0.5252407\ttotal: 7.46s\tremaining: 45.1s\n",
            "142:\tlearn: 0.5227925\ttotal: 7.5s\tremaining: 45s\n",
            "143:\tlearn: 0.5213330\ttotal: 7.55s\tremaining: 44.9s\n",
            "144:\tlearn: 0.5186219\ttotal: 7.6s\tremaining: 44.8s\n",
            "145:\tlearn: 0.5170981\ttotal: 7.65s\tremaining: 44.8s\n",
            "146:\tlearn: 0.5153757\ttotal: 7.7s\tremaining: 44.7s\n",
            "147:\tlearn: 0.5128881\ttotal: 7.74s\tremaining: 44.6s\n",
            "148:\tlearn: 0.5110111\ttotal: 7.79s\tremaining: 44.5s\n",
            "149:\tlearn: 0.5094763\ttotal: 7.84s\tremaining: 44.4s\n",
            "150:\tlearn: 0.5074462\ttotal: 7.89s\tremaining: 44.3s\n",
            "151:\tlearn: 0.5047372\ttotal: 7.93s\tremaining: 44.3s\n",
            "152:\tlearn: 0.5031281\ttotal: 7.98s\tremaining: 44.2s\n",
            "153:\tlearn: 0.5009515\ttotal: 8.03s\tremaining: 44.1s\n",
            "154:\tlearn: 0.4994256\ttotal: 8.07s\tremaining: 44s\n",
            "155:\tlearn: 0.4966713\ttotal: 8.12s\tremaining: 44s\n",
            "156:\tlearn: 0.4950070\ttotal: 8.17s\tremaining: 43.9s\n",
            "157:\tlearn: 0.4927252\ttotal: 8.22s\tremaining: 43.8s\n",
            "158:\tlearn: 0.4906744\ttotal: 8.26s\tremaining: 43.7s\n",
            "159:\tlearn: 0.4889853\ttotal: 8.31s\tremaining: 43.6s\n",
            "160:\tlearn: 0.4877804\ttotal: 8.36s\tremaining: 43.6s\n",
            "161:\tlearn: 0.4859916\ttotal: 8.41s\tremaining: 43.5s\n",
            "162:\tlearn: 0.4835328\ttotal: 8.47s\tremaining: 43.5s\n",
            "163:\tlearn: 0.4821573\ttotal: 8.53s\tremaining: 43.5s\n",
            "164:\tlearn: 0.4808227\ttotal: 8.58s\tremaining: 43.4s\n",
            "165:\tlearn: 0.4792633\ttotal: 8.63s\tremaining: 43.3s\n",
            "166:\tlearn: 0.4773641\ttotal: 8.67s\tremaining: 43.3s\n",
            "167:\tlearn: 0.4755371\ttotal: 8.72s\tremaining: 43.2s\n",
            "168:\tlearn: 0.4733162\ttotal: 8.77s\tremaining: 43.1s\n",
            "169:\tlearn: 0.4710415\ttotal: 8.82s\tremaining: 43.1s\n",
            "170:\tlearn: 0.4693100\ttotal: 8.87s\tremaining: 43s\n",
            "171:\tlearn: 0.4666612\ttotal: 8.91s\tremaining: 42.9s\n",
            "172:\tlearn: 0.4649881\ttotal: 8.96s\tremaining: 42.8s\n",
            "173:\tlearn: 0.4634182\ttotal: 9.01s\tremaining: 42.8s\n",
            "174:\tlearn: 0.4617629\ttotal: 9.06s\tremaining: 42.7s\n",
            "175:\tlearn: 0.4601067\ttotal: 9.11s\tremaining: 42.6s\n",
            "176:\tlearn: 0.4583012\ttotal: 9.15s\tremaining: 42.6s\n",
            "177:\tlearn: 0.4570217\ttotal: 9.2s\tremaining: 42.5s\n",
            "178:\tlearn: 0.4557723\ttotal: 9.25s\tremaining: 42.4s\n",
            "179:\tlearn: 0.4544017\ttotal: 9.3s\tremaining: 42.4s\n",
            "180:\tlearn: 0.4533706\ttotal: 9.34s\tremaining: 42.3s\n",
            "181:\tlearn: 0.4518913\ttotal: 9.39s\tremaining: 42.2s\n",
            "182:\tlearn: 0.4507805\ttotal: 9.44s\tremaining: 42.1s\n",
            "183:\tlearn: 0.4486450\ttotal: 9.49s\tremaining: 42.1s\n",
            "184:\tlearn: 0.4475001\ttotal: 9.54s\tremaining: 42s\n",
            "185:\tlearn: 0.4455036\ttotal: 9.58s\tremaining: 41.9s\n",
            "186:\tlearn: 0.4445346\ttotal: 9.63s\tremaining: 41.9s\n",
            "187:\tlearn: 0.4427743\ttotal: 9.68s\tremaining: 41.8s\n",
            "188:\tlearn: 0.4413702\ttotal: 9.72s\tremaining: 41.7s\n",
            "189:\tlearn: 0.4397197\ttotal: 9.77s\tremaining: 41.7s\n",
            "190:\tlearn: 0.4382845\ttotal: 9.82s\tremaining: 41.6s\n",
            "191:\tlearn: 0.4367447\ttotal: 9.87s\tremaining: 41.5s\n",
            "192:\tlearn: 0.4354863\ttotal: 9.91s\tremaining: 41.5s\n",
            "193:\tlearn: 0.4340589\ttotal: 9.96s\tremaining: 41.4s\n",
            "194:\tlearn: 0.4328734\ttotal: 10s\tremaining: 41.3s\n",
            "195:\tlearn: 0.4322248\ttotal: 10.1s\tremaining: 41.3s\n",
            "196:\tlearn: 0.4307515\ttotal: 10.1s\tremaining: 41.2s\n",
            "197:\tlearn: 0.4293365\ttotal: 10.2s\tremaining: 41.1s\n",
            "198:\tlearn: 0.4276386\ttotal: 10.2s\tremaining: 41.1s\n",
            "199:\tlearn: 0.4260706\ttotal: 10.3s\tremaining: 41s\n",
            "200:\tlearn: 0.4241335\ttotal: 10.3s\tremaining: 40.9s\n",
            "201:\tlearn: 0.4224886\ttotal: 10.3s\tremaining: 40.9s\n",
            "202:\tlearn: 0.4211751\ttotal: 10.4s\tremaining: 40.8s\n",
            "203:\tlearn: 0.4191187\ttotal: 10.4s\tremaining: 40.7s\n",
            "204:\tlearn: 0.4176137\ttotal: 10.5s\tremaining: 40.7s\n",
            "205:\tlearn: 0.4161834\ttotal: 10.5s\tremaining: 40.6s\n",
            "206:\tlearn: 0.4147474\ttotal: 10.6s\tremaining: 40.6s\n",
            "207:\tlearn: 0.4136094\ttotal: 10.6s\tremaining: 40.5s\n",
            "208:\tlearn: 0.4119761\ttotal: 10.7s\tremaining: 40.4s\n",
            "209:\tlearn: 0.4107488\ttotal: 10.7s\tremaining: 40.4s\n",
            "210:\tlearn: 0.4096994\ttotal: 10.8s\tremaining: 40.3s\n",
            "211:\tlearn: 0.4077057\ttotal: 10.8s\tremaining: 40.3s\n",
            "212:\tlearn: 0.4057164\ttotal: 10.9s\tremaining: 40.2s\n",
            "213:\tlearn: 0.4044762\ttotal: 10.9s\tremaining: 40.1s\n",
            "214:\tlearn: 0.4033515\ttotal: 11s\tremaining: 40.1s\n",
            "215:\tlearn: 0.4014107\ttotal: 11s\tremaining: 40s\n",
            "216:\tlearn: 0.4001684\ttotal: 11.1s\tremaining: 39.9s\n",
            "217:\tlearn: 0.3990415\ttotal: 11.1s\tremaining: 39.9s\n",
            "218:\tlearn: 0.3975901\ttotal: 11.2s\tremaining: 39.8s\n",
            "219:\tlearn: 0.3962492\ttotal: 11.2s\tremaining: 39.8s\n",
            "220:\tlearn: 0.3953965\ttotal: 11.3s\tremaining: 39.7s\n",
            "221:\tlearn: 0.3942355\ttotal: 11.3s\tremaining: 39.6s\n",
            "222:\tlearn: 0.3930634\ttotal: 11.4s\tremaining: 39.6s\n",
            "223:\tlearn: 0.3916849\ttotal: 11.4s\tremaining: 39.5s\n",
            "224:\tlearn: 0.3899944\ttotal: 11.5s\tremaining: 39.4s\n",
            "225:\tlearn: 0.3888404\ttotal: 11.5s\tremaining: 39.4s\n",
            "226:\tlearn: 0.3877093\ttotal: 11.5s\tremaining: 39.3s\n",
            "227:\tlearn: 0.3867010\ttotal: 11.6s\tremaining: 39.3s\n",
            "228:\tlearn: 0.3855130\ttotal: 11.6s\tremaining: 39.2s\n",
            "229:\tlearn: 0.3846192\ttotal: 11.7s\tremaining: 39.1s\n",
            "230:\tlearn: 0.3839218\ttotal: 11.7s\tremaining: 39.1s\n",
            "231:\tlearn: 0.3825042\ttotal: 11.8s\tremaining: 39s\n",
            "232:\tlearn: 0.3810302\ttotal: 11.8s\tremaining: 39s\n",
            "233:\tlearn: 0.3802510\ttotal: 11.9s\tremaining: 38.9s\n",
            "234:\tlearn: 0.3793815\ttotal: 11.9s\tremaining: 38.8s\n",
            "235:\tlearn: 0.3780584\ttotal: 12s\tremaining: 38.8s\n",
            "236:\tlearn: 0.3771278\ttotal: 12s\tremaining: 38.7s\n",
            "237:\tlearn: 0.3759211\ttotal: 12.1s\tremaining: 38.6s\n",
            "238:\tlearn: 0.3744746\ttotal: 12.1s\tremaining: 38.6s\n",
            "239:\tlearn: 0.3739598\ttotal: 12.2s\tremaining: 38.5s\n",
            "240:\tlearn: 0.3722341\ttotal: 12.2s\tremaining: 38.5s\n",
            "241:\tlearn: 0.3707843\ttotal: 12.3s\tremaining: 38.4s\n",
            "242:\tlearn: 0.3697595\ttotal: 12.3s\tremaining: 38.4s\n",
            "243:\tlearn: 0.3685345\ttotal: 12.4s\tremaining: 38.3s\n",
            "244:\tlearn: 0.3669090\ttotal: 12.4s\tremaining: 38.2s\n",
            "245:\tlearn: 0.3654403\ttotal: 12.5s\tremaining: 38.2s\n",
            "246:\tlearn: 0.3639457\ttotal: 12.5s\tremaining: 38.1s\n",
            "247:\tlearn: 0.3622752\ttotal: 12.5s\tremaining: 38.1s\n",
            "248:\tlearn: 0.3605317\ttotal: 12.6s\tremaining: 38s\n",
            "249:\tlearn: 0.3587729\ttotal: 12.6s\tremaining: 37.9s\n",
            "250:\tlearn: 0.3577876\ttotal: 12.7s\tremaining: 37.9s\n",
            "251:\tlearn: 0.3566523\ttotal: 12.7s\tremaining: 37.8s\n",
            "252:\tlearn: 0.3558260\ttotal: 12.8s\tremaining: 37.8s\n",
            "253:\tlearn: 0.3542600\ttotal: 12.8s\tremaining: 37.7s\n",
            "254:\tlearn: 0.3528604\ttotal: 12.9s\tremaining: 37.6s\n",
            "255:\tlearn: 0.3512410\ttotal: 12.9s\tremaining: 37.6s\n",
            "256:\tlearn: 0.3503059\ttotal: 13s\tremaining: 37.5s\n",
            "257:\tlearn: 0.3486064\ttotal: 13s\tremaining: 37.5s\n",
            "258:\tlearn: 0.3472006\ttotal: 13.1s\tremaining: 37.4s\n",
            "259:\tlearn: 0.3458166\ttotal: 13.1s\tremaining: 37.4s\n",
            "260:\tlearn: 0.3452685\ttotal: 13.2s\tremaining: 37.3s\n",
            "261:\tlearn: 0.3443690\ttotal: 13.2s\tremaining: 37.2s\n",
            "262:\tlearn: 0.3425695\ttotal: 13.3s\tremaining: 37.2s\n",
            "263:\tlearn: 0.3416335\ttotal: 13.3s\tremaining: 37.1s\n",
            "264:\tlearn: 0.3401154\ttotal: 13.4s\tremaining: 37.1s\n",
            "265:\tlearn: 0.3386517\ttotal: 13.4s\tremaining: 37s\n",
            "266:\tlearn: 0.3376633\ttotal: 13.5s\tremaining: 36.9s\n",
            "267:\tlearn: 0.3364853\ttotal: 13.5s\tremaining: 36.9s\n",
            "268:\tlearn: 0.3357947\ttotal: 13.6s\tremaining: 36.8s\n",
            "269:\tlearn: 0.3350421\ttotal: 13.6s\tremaining: 36.8s\n",
            "270:\tlearn: 0.3334354\ttotal: 13.7s\tremaining: 36.7s\n",
            "271:\tlearn: 0.3329636\ttotal: 13.7s\tremaining: 36.7s\n",
            "272:\tlearn: 0.3321597\ttotal: 13.7s\tremaining: 36.6s\n",
            "273:\tlearn: 0.3310192\ttotal: 13.8s\tremaining: 36.5s\n",
            "274:\tlearn: 0.3301961\ttotal: 13.8s\tremaining: 36.5s\n",
            "275:\tlearn: 0.3290097\ttotal: 13.9s\tremaining: 36.4s\n",
            "276:\tlearn: 0.3280192\ttotal: 13.9s\tremaining: 36.4s\n",
            "277:\tlearn: 0.3268933\ttotal: 14s\tremaining: 36.3s\n",
            "278:\tlearn: 0.3262855\ttotal: 14s\tremaining: 36.3s\n",
            "279:\tlearn: 0.3250768\ttotal: 14.1s\tremaining: 36.2s\n",
            "280:\tlearn: 0.3240208\ttotal: 14.1s\tremaining: 36.2s\n",
            "281:\tlearn: 0.3230145\ttotal: 14.2s\tremaining: 36.1s\n",
            "282:\tlearn: 0.3218173\ttotal: 14.2s\tremaining: 36s\n",
            "283:\tlearn: 0.3207459\ttotal: 14.3s\tremaining: 36s\n",
            "284:\tlearn: 0.3193497\ttotal: 14.3s\tremaining: 35.9s\n",
            "285:\tlearn: 0.3187310\ttotal: 14.4s\tremaining: 35.9s\n",
            "286:\tlearn: 0.3174740\ttotal: 14.4s\tremaining: 35.8s\n",
            "287:\tlearn: 0.3167250\ttotal: 14.5s\tremaining: 35.8s\n",
            "288:\tlearn: 0.3157541\ttotal: 14.5s\tremaining: 35.7s\n",
            "289:\tlearn: 0.3141269\ttotal: 14.6s\tremaining: 35.7s\n",
            "290:\tlearn: 0.3131294\ttotal: 14.6s\tremaining: 35.6s\n",
            "291:\tlearn: 0.3124522\ttotal: 14.7s\tremaining: 35.5s\n",
            "292:\tlearn: 0.3118264\ttotal: 14.7s\tremaining: 35.5s\n",
            "293:\tlearn: 0.3110001\ttotal: 14.8s\tremaining: 35.4s\n",
            "294:\tlearn: 0.3102529\ttotal: 14.8s\tremaining: 35.4s\n",
            "295:\tlearn: 0.3091619\ttotal: 14.9s\tremaining: 35.3s\n",
            "296:\tlearn: 0.3086266\ttotal: 14.9s\tremaining: 35.3s\n",
            "297:\tlearn: 0.3077455\ttotal: 14.9s\tremaining: 35.2s\n",
            "298:\tlearn: 0.3069376\ttotal: 15s\tremaining: 35.1s\n",
            "299:\tlearn: 0.3060877\ttotal: 15s\tremaining: 35.1s\n",
            "300:\tlearn: 0.3049650\ttotal: 15.1s\tremaining: 35s\n",
            "301:\tlearn: 0.3040958\ttotal: 15.1s\tremaining: 35s\n",
            "302:\tlearn: 0.3034038\ttotal: 15.2s\tremaining: 34.9s\n",
            "303:\tlearn: 0.3020835\ttotal: 15.2s\tremaining: 34.9s\n",
            "304:\tlearn: 0.3009399\ttotal: 15.3s\tremaining: 34.8s\n",
            "305:\tlearn: 0.2997814\ttotal: 15.3s\tremaining: 34.8s\n",
            "306:\tlearn: 0.2987130\ttotal: 15.4s\tremaining: 34.7s\n",
            "307:\tlearn: 0.2974886\ttotal: 15.4s\tremaining: 34.6s\n",
            "308:\tlearn: 0.2963921\ttotal: 15.5s\tremaining: 34.6s\n",
            "309:\tlearn: 0.2957729\ttotal: 15.5s\tremaining: 34.6s\n",
            "310:\tlearn: 0.2951721\ttotal: 15.6s\tremaining: 34.5s\n",
            "311:\tlearn: 0.2940886\ttotal: 15.6s\tremaining: 34.4s\n",
            "312:\tlearn: 0.2935521\ttotal: 15.7s\tremaining: 34.4s\n",
            "313:\tlearn: 0.2933015\ttotal: 15.7s\tremaining: 34.3s\n",
            "314:\tlearn: 0.2920397\ttotal: 15.8s\tremaining: 34.3s\n",
            "315:\tlearn: 0.2910283\ttotal: 15.8s\tremaining: 34.2s\n",
            "316:\tlearn: 0.2903564\ttotal: 15.9s\tremaining: 34.2s\n",
            "317:\tlearn: 0.2894536\ttotal: 15.9s\tremaining: 34.1s\n",
            "318:\tlearn: 0.2882545\ttotal: 15.9s\tremaining: 34s\n",
            "319:\tlearn: 0.2874939\ttotal: 16s\tremaining: 34s\n",
            "320:\tlearn: 0.2868566\ttotal: 16s\tremaining: 33.9s\n",
            "321:\tlearn: 0.2857709\ttotal: 16.1s\tremaining: 33.9s\n",
            "322:\tlearn: 0.2850693\ttotal: 16.1s\tremaining: 33.8s\n",
            "323:\tlearn: 0.2840926\ttotal: 16.2s\tremaining: 33.8s\n",
            "324:\tlearn: 0.2834525\ttotal: 16.2s\tremaining: 33.7s\n",
            "325:\tlearn: 0.2828672\ttotal: 16.3s\tremaining: 33.7s\n",
            "326:\tlearn: 0.2820827\ttotal: 16.3s\tremaining: 33.6s\n",
            "327:\tlearn: 0.2812879\ttotal: 16.4s\tremaining: 33.5s\n",
            "328:\tlearn: 0.2806341\ttotal: 16.4s\tremaining: 33.5s\n",
            "329:\tlearn: 0.2798894\ttotal: 16.5s\tremaining: 33.4s\n",
            "330:\tlearn: 0.2793190\ttotal: 16.5s\tremaining: 33.4s\n",
            "331:\tlearn: 0.2784803\ttotal: 16.6s\tremaining: 33.3s\n",
            "332:\tlearn: 0.2777973\ttotal: 16.6s\tremaining: 33.3s\n",
            "333:\tlearn: 0.2771130\ttotal: 16.7s\tremaining: 33.2s\n",
            "334:\tlearn: 0.2762843\ttotal: 16.7s\tremaining: 33.2s\n",
            "335:\tlearn: 0.2754821\ttotal: 16.8s\tremaining: 33.1s\n",
            "336:\tlearn: 0.2745500\ttotal: 16.8s\tremaining: 33.1s\n",
            "337:\tlearn: 0.2739583\ttotal: 16.8s\tremaining: 33s\n",
            "338:\tlearn: 0.2732674\ttotal: 16.9s\tremaining: 32.9s\n",
            "339:\tlearn: 0.2726249\ttotal: 16.9s\tremaining: 32.9s\n",
            "340:\tlearn: 0.2717261\ttotal: 17s\tremaining: 32.8s\n",
            "341:\tlearn: 0.2711298\ttotal: 17s\tremaining: 32.8s\n",
            "342:\tlearn: 0.2700060\ttotal: 17.1s\tremaining: 32.7s\n",
            "343:\tlearn: 0.2694847\ttotal: 17.1s\tremaining: 32.7s\n",
            "344:\tlearn: 0.2690917\ttotal: 17.2s\tremaining: 32.6s\n",
            "345:\tlearn: 0.2683744\ttotal: 17.2s\tremaining: 32.6s\n",
            "346:\tlearn: 0.2679711\ttotal: 17.3s\tremaining: 32.5s\n",
            "347:\tlearn: 0.2673226\ttotal: 17.3s\tremaining: 32.5s\n",
            "348:\tlearn: 0.2664701\ttotal: 17.4s\tremaining: 32.4s\n",
            "349:\tlearn: 0.2660278\ttotal: 17.4s\tremaining: 32.4s\n",
            "350:\tlearn: 0.2655016\ttotal: 17.5s\tremaining: 32.3s\n",
            "351:\tlearn: 0.2649457\ttotal: 17.5s\tremaining: 32.3s\n",
            "352:\tlearn: 0.2642573\ttotal: 17.6s\tremaining: 32.2s\n",
            "353:\tlearn: 0.2628708\ttotal: 17.6s\tremaining: 32.2s\n",
            "354:\tlearn: 0.2620332\ttotal: 17.7s\tremaining: 32.1s\n",
            "355:\tlearn: 0.2612248\ttotal: 17.7s\tremaining: 32s\n",
            "356:\tlearn: 0.2607222\ttotal: 17.8s\tremaining: 32s\n",
            "357:\tlearn: 0.2600822\ttotal: 17.8s\tremaining: 31.9s\n",
            "358:\tlearn: 0.2594733\ttotal: 17.9s\tremaining: 31.9s\n",
            "359:\tlearn: 0.2590276\ttotal: 17.9s\tremaining: 31.8s\n",
            "360:\tlearn: 0.2582140\ttotal: 18s\tremaining: 31.8s\n",
            "361:\tlearn: 0.2576794\ttotal: 18s\tremaining: 31.7s\n",
            "362:\tlearn: 0.2568330\ttotal: 18s\tremaining: 31.7s\n",
            "363:\tlearn: 0.2559644\ttotal: 18.1s\tremaining: 31.6s\n",
            "364:\tlearn: 0.2552887\ttotal: 18.1s\tremaining: 31.6s\n",
            "365:\tlearn: 0.2546753\ttotal: 18.2s\tremaining: 31.5s\n",
            "366:\tlearn: 0.2543385\ttotal: 18.2s\tremaining: 31.5s\n",
            "367:\tlearn: 0.2539201\ttotal: 18.3s\tremaining: 31.4s\n",
            "368:\tlearn: 0.2531037\ttotal: 18.3s\tremaining: 31.3s\n",
            "369:\tlearn: 0.2526534\ttotal: 18.4s\tremaining: 31.3s\n",
            "370:\tlearn: 0.2519145\ttotal: 18.4s\tremaining: 31.3s\n",
            "371:\tlearn: 0.2516058\ttotal: 18.5s\tremaining: 31.2s\n",
            "372:\tlearn: 0.2511921\ttotal: 18.5s\tremaining: 31.1s\n",
            "373:\tlearn: 0.2507606\ttotal: 18.6s\tremaining: 31.1s\n",
            "374:\tlearn: 0.2499639\ttotal: 18.6s\tremaining: 31s\n",
            "375:\tlearn: 0.2490637\ttotal: 18.7s\tremaining: 31s\n",
            "376:\tlearn: 0.2484262\ttotal: 18.7s\tremaining: 30.9s\n",
            "377:\tlearn: 0.2481377\ttotal: 18.8s\tremaining: 30.9s\n",
            "378:\tlearn: 0.2473851\ttotal: 18.8s\tremaining: 30.8s\n",
            "379:\tlearn: 0.2468821\ttotal: 18.9s\tremaining: 30.8s\n",
            "380:\tlearn: 0.2460773\ttotal: 18.9s\tremaining: 30.8s\n",
            "381:\tlearn: 0.2455511\ttotal: 19s\tremaining: 30.7s\n",
            "382:\tlearn: 0.2449504\ttotal: 19s\tremaining: 30.7s\n",
            "383:\tlearn: 0.2441832\ttotal: 19.1s\tremaining: 30.6s\n",
            "384:\tlearn: 0.2436686\ttotal: 19.1s\tremaining: 30.6s\n",
            "385:\tlearn: 0.2430029\ttotal: 19.2s\tremaining: 30.5s\n",
            "386:\tlearn: 0.2421551\ttotal: 19.2s\tremaining: 30.4s\n",
            "387:\tlearn: 0.2416183\ttotal: 19.3s\tremaining: 30.4s\n",
            "388:\tlearn: 0.2410863\ttotal: 19.3s\tremaining: 30.3s\n",
            "389:\tlearn: 0.2402748\ttotal: 19.4s\tremaining: 30.3s\n",
            "390:\tlearn: 0.2395803\ttotal: 19.4s\tremaining: 30.2s\n",
            "391:\tlearn: 0.2392573\ttotal: 19.5s\tremaining: 30.2s\n",
            "392:\tlearn: 0.2388932\ttotal: 19.5s\tremaining: 30.1s\n",
            "393:\tlearn: 0.2380223\ttotal: 19.6s\tremaining: 30.1s\n",
            "394:\tlearn: 0.2375012\ttotal: 19.6s\tremaining: 30s\n",
            "395:\tlearn: 0.2368460\ttotal: 19.7s\tremaining: 30s\n",
            "396:\tlearn: 0.2360815\ttotal: 19.7s\tremaining: 29.9s\n",
            "397:\tlearn: 0.2353270\ttotal: 19.7s\tremaining: 29.9s\n",
            "398:\tlearn: 0.2349764\ttotal: 19.8s\tremaining: 29.8s\n",
            "399:\tlearn: 0.2343171\ttotal: 19.8s\tremaining: 29.8s\n",
            "400:\tlearn: 0.2336232\ttotal: 19.9s\tremaining: 29.7s\n",
            "401:\tlearn: 0.2333351\ttotal: 19.9s\tremaining: 29.7s\n",
            "402:\tlearn: 0.2329981\ttotal: 20s\tremaining: 29.6s\n",
            "403:\tlearn: 0.2323483\ttotal: 20s\tremaining: 29.6s\n",
            "404:\tlearn: 0.2316880\ttotal: 20.1s\tremaining: 29.5s\n",
            "405:\tlearn: 0.2309028\ttotal: 20.1s\tremaining: 29.4s\n",
            "406:\tlearn: 0.2304297\ttotal: 20.2s\tremaining: 29.4s\n",
            "407:\tlearn: 0.2298351\ttotal: 20.2s\tremaining: 29.3s\n",
            "408:\tlearn: 0.2291537\ttotal: 20.3s\tremaining: 29.3s\n",
            "409:\tlearn: 0.2286707\ttotal: 20.3s\tremaining: 29.2s\n",
            "410:\tlearn: 0.2279582\ttotal: 20.4s\tremaining: 29.2s\n",
            "411:\tlearn: 0.2275896\ttotal: 20.4s\tremaining: 29.1s\n",
            "412:\tlearn: 0.2268873\ttotal: 20.5s\tremaining: 29.1s\n",
            "413:\tlearn: 0.2264741\ttotal: 20.5s\tremaining: 29s\n",
            "414:\tlearn: 0.2260615\ttotal: 20.6s\tremaining: 29s\n",
            "415:\tlearn: 0.2257513\ttotal: 20.6s\tremaining: 28.9s\n",
            "416:\tlearn: 0.2253528\ttotal: 20.7s\tremaining: 28.9s\n",
            "417:\tlearn: 0.2250246\ttotal: 20.7s\tremaining: 28.8s\n",
            "418:\tlearn: 0.2245042\ttotal: 20.8s\tremaining: 28.8s\n",
            "419:\tlearn: 0.2236603\ttotal: 20.8s\tremaining: 28.7s\n",
            "420:\tlearn: 0.2233256\ttotal: 20.8s\tremaining: 28.7s\n",
            "421:\tlearn: 0.2229548\ttotal: 20.9s\tremaining: 28.6s\n",
            "422:\tlearn: 0.2224925\ttotal: 20.9s\tremaining: 28.6s\n",
            "423:\tlearn: 0.2221886\ttotal: 21s\tremaining: 28.5s\n",
            "424:\tlearn: 0.2216724\ttotal: 21s\tremaining: 28.5s\n",
            "425:\tlearn: 0.2210751\ttotal: 21.1s\tremaining: 28.4s\n",
            "426:\tlearn: 0.2208490\ttotal: 21.1s\tremaining: 28.4s\n",
            "427:\tlearn: 0.2207738\ttotal: 21.2s\tremaining: 28.3s\n",
            "428:\tlearn: 0.2203892\ttotal: 21.2s\tremaining: 28.3s\n",
            "429:\tlearn: 0.2198245\ttotal: 21.3s\tremaining: 28.2s\n",
            "430:\tlearn: 0.2196421\ttotal: 21.3s\tremaining: 28.2s\n",
            "431:\tlearn: 0.2192012\ttotal: 21.4s\tremaining: 28.1s\n",
            "432:\tlearn: 0.2187314\ttotal: 21.4s\tremaining: 28s\n",
            "433:\tlearn: 0.2181561\ttotal: 21.5s\tremaining: 28s\n",
            "434:\tlearn: 0.2173602\ttotal: 21.5s\tremaining: 27.9s\n",
            "435:\tlearn: 0.2169206\ttotal: 21.6s\tremaining: 27.9s\n",
            "436:\tlearn: 0.2162359\ttotal: 21.6s\tremaining: 27.8s\n",
            "437:\tlearn: 0.2158935\ttotal: 21.7s\tremaining: 27.8s\n",
            "438:\tlearn: 0.2152601\ttotal: 21.7s\tremaining: 27.7s\n",
            "439:\tlearn: 0.2147939\ttotal: 21.8s\tremaining: 27.7s\n",
            "440:\tlearn: 0.2141370\ttotal: 21.8s\tremaining: 27.6s\n",
            "441:\tlearn: 0.2134279\ttotal: 21.8s\tremaining: 27.6s\n",
            "442:\tlearn: 0.2127385\ttotal: 21.9s\tremaining: 27.5s\n",
            "443:\tlearn: 0.2122799\ttotal: 21.9s\tremaining: 27.5s\n",
            "444:\tlearn: 0.2118595\ttotal: 22s\tremaining: 27.4s\n",
            "445:\tlearn: 0.2112431\ttotal: 22s\tremaining: 27.4s\n",
            "446:\tlearn: 0.2107942\ttotal: 22.1s\tremaining: 27.3s\n",
            "447:\tlearn: 0.2103729\ttotal: 22.1s\tremaining: 27.3s\n",
            "448:\tlearn: 0.2099820\ttotal: 22.2s\tremaining: 27.2s\n",
            "449:\tlearn: 0.2096637\ttotal: 22.2s\tremaining: 27.2s\n",
            "450:\tlearn: 0.2091371\ttotal: 22.3s\tremaining: 27.1s\n",
            "451:\tlearn: 0.2087899\ttotal: 22.3s\tremaining: 27.1s\n",
            "452:\tlearn: 0.2083907\ttotal: 22.4s\tremaining: 27s\n",
            "453:\tlearn: 0.2079998\ttotal: 22.4s\tremaining: 27s\n",
            "454:\tlearn: 0.2074727\ttotal: 22.5s\tremaining: 26.9s\n",
            "455:\tlearn: 0.2070030\ttotal: 22.5s\tremaining: 26.9s\n",
            "456:\tlearn: 0.2065503\ttotal: 22.6s\tremaining: 26.8s\n",
            "457:\tlearn: 0.2057862\ttotal: 22.6s\tremaining: 26.8s\n",
            "458:\tlearn: 0.2052107\ttotal: 22.7s\tremaining: 26.7s\n",
            "459:\tlearn: 0.2049718\ttotal: 22.7s\tremaining: 26.7s\n",
            "460:\tlearn: 0.2048299\ttotal: 22.8s\tremaining: 26.6s\n",
            "461:\tlearn: 0.2039015\ttotal: 22.8s\tremaining: 26.6s\n",
            "462:\tlearn: 0.2034232\ttotal: 22.8s\tremaining: 26.5s\n",
            "463:\tlearn: 0.2029540\ttotal: 22.9s\tremaining: 26.4s\n",
            "464:\tlearn: 0.2024157\ttotal: 22.9s\tremaining: 26.4s\n",
            "465:\tlearn: 0.2019776\ttotal: 23s\tremaining: 26.3s\n",
            "466:\tlearn: 0.2014704\ttotal: 23s\tremaining: 26.3s\n",
            "467:\tlearn: 0.2009816\ttotal: 23.1s\tremaining: 26.2s\n",
            "468:\tlearn: 0.2004918\ttotal: 23.1s\tremaining: 26.2s\n",
            "469:\tlearn: 0.2000453\ttotal: 23.2s\tremaining: 26.1s\n",
            "470:\tlearn: 0.1998883\ttotal: 23.2s\tremaining: 26.1s\n",
            "471:\tlearn: 0.1993008\ttotal: 23.3s\tremaining: 26s\n",
            "472:\tlearn: 0.1988402\ttotal: 23.3s\tremaining: 26s\n",
            "473:\tlearn: 0.1984260\ttotal: 23.4s\tremaining: 25.9s\n",
            "474:\tlearn: 0.1979404\ttotal: 23.4s\tremaining: 25.9s\n",
            "475:\tlearn: 0.1974686\ttotal: 23.5s\tremaining: 25.8s\n",
            "476:\tlearn: 0.1970422\ttotal: 23.5s\tremaining: 25.8s\n",
            "477:\tlearn: 0.1965566\ttotal: 23.6s\tremaining: 25.7s\n",
            "478:\tlearn: 0.1962118\ttotal: 23.6s\tremaining: 25.7s\n",
            "479:\tlearn: 0.1958294\ttotal: 23.7s\tremaining: 25.6s\n",
            "480:\tlearn: 0.1952370\ttotal: 23.7s\tremaining: 25.6s\n",
            "481:\tlearn: 0.1950732\ttotal: 23.8s\tremaining: 25.5s\n",
            "482:\tlearn: 0.1946845\ttotal: 23.8s\tremaining: 25.5s\n",
            "483:\tlearn: 0.1943785\ttotal: 23.9s\tremaining: 25.4s\n",
            "484:\tlearn: 0.1939780\ttotal: 23.9s\tremaining: 25.4s\n",
            "485:\tlearn: 0.1935306\ttotal: 23.9s\tremaining: 25.3s\n",
            "486:\tlearn: 0.1935100\ttotal: 24s\tremaining: 25.3s\n",
            "487:\tlearn: 0.1932163\ttotal: 24s\tremaining: 25.2s\n",
            "488:\tlearn: 0.1926919\ttotal: 24.1s\tremaining: 25.2s\n",
            "489:\tlearn: 0.1921372\ttotal: 24.1s\tremaining: 25.1s\n",
            "490:\tlearn: 0.1916163\ttotal: 24.2s\tremaining: 25.1s\n",
            "491:\tlearn: 0.1913557\ttotal: 24.2s\tremaining: 25s\n",
            "492:\tlearn: 0.1908796\ttotal: 24.3s\tremaining: 25s\n",
            "493:\tlearn: 0.1905609\ttotal: 24.3s\tremaining: 24.9s\n",
            "494:\tlearn: 0.1899988\ttotal: 24.4s\tremaining: 24.9s\n",
            "495:\tlearn: 0.1897753\ttotal: 24.4s\tremaining: 24.8s\n",
            "496:\tlearn: 0.1895006\ttotal: 24.5s\tremaining: 24.8s\n",
            "497:\tlearn: 0.1891815\ttotal: 24.5s\tremaining: 24.7s\n",
            "498:\tlearn: 0.1889355\ttotal: 24.6s\tremaining: 24.7s\n",
            "499:\tlearn: 0.1884641\ttotal: 24.6s\tremaining: 24.6s\n",
            "500:\tlearn: 0.1880610\ttotal: 24.7s\tremaining: 24.6s\n",
            "501:\tlearn: 0.1878379\ttotal: 24.7s\tremaining: 24.5s\n",
            "502:\tlearn: 0.1873671\ttotal: 24.8s\tremaining: 24.5s\n",
            "503:\tlearn: 0.1868384\ttotal: 24.8s\tremaining: 24.4s\n",
            "504:\tlearn: 0.1865523\ttotal: 24.9s\tremaining: 24.4s\n",
            "505:\tlearn: 0.1862149\ttotal: 24.9s\tremaining: 24.3s\n",
            "506:\tlearn: 0.1857658\ttotal: 24.9s\tremaining: 24.3s\n",
            "507:\tlearn: 0.1853023\ttotal: 25s\tremaining: 24.2s\n",
            "508:\tlearn: 0.1851597\ttotal: 25s\tremaining: 24.2s\n",
            "509:\tlearn: 0.1848993\ttotal: 25.1s\tremaining: 24.1s\n",
            "510:\tlearn: 0.1844606\ttotal: 25.1s\tremaining: 24.1s\n",
            "511:\tlearn: 0.1842073\ttotal: 25.2s\tremaining: 24s\n",
            "512:\tlearn: 0.1838462\ttotal: 25.2s\tremaining: 24s\n",
            "513:\tlearn: 0.1833826\ttotal: 25.3s\tremaining: 23.9s\n",
            "514:\tlearn: 0.1831488\ttotal: 25.3s\tremaining: 23.9s\n",
            "515:\tlearn: 0.1827896\ttotal: 25.4s\tremaining: 23.8s\n",
            "516:\tlearn: 0.1824604\ttotal: 25.4s\tremaining: 23.8s\n",
            "517:\tlearn: 0.1819387\ttotal: 25.5s\tremaining: 23.7s\n",
            "518:\tlearn: 0.1818638\ttotal: 25.5s\tremaining: 23.6s\n",
            "519:\tlearn: 0.1812854\ttotal: 25.6s\tremaining: 23.6s\n",
            "520:\tlearn: 0.1808900\ttotal: 25.6s\tremaining: 23.6s\n",
            "521:\tlearn: 0.1804723\ttotal: 25.7s\tremaining: 23.5s\n",
            "522:\tlearn: 0.1801596\ttotal: 25.7s\tremaining: 23.4s\n",
            "523:\tlearn: 0.1797061\ttotal: 25.8s\tremaining: 23.4s\n",
            "524:\tlearn: 0.1793854\ttotal: 25.8s\tremaining: 23.3s\n",
            "525:\tlearn: 0.1791839\ttotal: 25.9s\tremaining: 23.3s\n",
            "526:\tlearn: 0.1786569\ttotal: 25.9s\tremaining: 23.2s\n",
            "527:\tlearn: 0.1783815\ttotal: 25.9s\tremaining: 23.2s\n",
            "528:\tlearn: 0.1781406\ttotal: 26s\tremaining: 23.1s\n",
            "529:\tlearn: 0.1778928\ttotal: 26s\tremaining: 23.1s\n",
            "530:\tlearn: 0.1775640\ttotal: 26.1s\tremaining: 23s\n",
            "531:\tlearn: 0.1772371\ttotal: 26.1s\tremaining: 23s\n",
            "532:\tlearn: 0.1769466\ttotal: 26.2s\tremaining: 22.9s\n",
            "533:\tlearn: 0.1764192\ttotal: 26.2s\tremaining: 22.9s\n",
            "534:\tlearn: 0.1759583\ttotal: 26.3s\tremaining: 22.8s\n",
            "535:\tlearn: 0.1756328\ttotal: 26.3s\tremaining: 22.8s\n",
            "536:\tlearn: 0.1753950\ttotal: 26.4s\tremaining: 22.7s\n",
            "537:\tlearn: 0.1749332\ttotal: 26.4s\tremaining: 22.7s\n",
            "538:\tlearn: 0.1745461\ttotal: 26.5s\tremaining: 22.6s\n",
            "539:\tlearn: 0.1740843\ttotal: 26.5s\tremaining: 22.6s\n",
            "540:\tlearn: 0.1738652\ttotal: 26.6s\tremaining: 22.5s\n",
            "541:\tlearn: 0.1734351\ttotal: 26.6s\tremaining: 22.5s\n",
            "542:\tlearn: 0.1731807\ttotal: 26.7s\tremaining: 22.4s\n",
            "543:\tlearn: 0.1726854\ttotal: 26.7s\tremaining: 22.4s\n",
            "544:\tlearn: 0.1723258\ttotal: 26.8s\tremaining: 22.3s\n",
            "545:\tlearn: 0.1719972\ttotal: 26.8s\tremaining: 22.3s\n",
            "546:\tlearn: 0.1716745\ttotal: 26.9s\tremaining: 22.2s\n",
            "547:\tlearn: 0.1712528\ttotal: 26.9s\tremaining: 22.2s\n",
            "548:\tlearn: 0.1707898\ttotal: 27s\tremaining: 22.1s\n",
            "549:\tlearn: 0.1705261\ttotal: 27s\tremaining: 22.1s\n",
            "550:\tlearn: 0.1699858\ttotal: 27.1s\tremaining: 22s\n",
            "551:\tlearn: 0.1695800\ttotal: 27.1s\tremaining: 22s\n",
            "552:\tlearn: 0.1694929\ttotal: 27.1s\tremaining: 21.9s\n",
            "553:\tlearn: 0.1690781\ttotal: 27.2s\tremaining: 21.9s\n",
            "554:\tlearn: 0.1686971\ttotal: 27.2s\tremaining: 21.8s\n",
            "555:\tlearn: 0.1682932\ttotal: 27.3s\tremaining: 21.8s\n",
            "556:\tlearn: 0.1682505\ttotal: 27.3s\tremaining: 21.7s\n",
            "557:\tlearn: 0.1680125\ttotal: 27.4s\tremaining: 21.7s\n",
            "558:\tlearn: 0.1676767\ttotal: 27.4s\tremaining: 21.6s\n",
            "559:\tlearn: 0.1673760\ttotal: 27.5s\tremaining: 21.6s\n",
            "560:\tlearn: 0.1671284\ttotal: 27.5s\tremaining: 21.5s\n",
            "561:\tlearn: 0.1668745\ttotal: 27.6s\tremaining: 21.5s\n",
            "562:\tlearn: 0.1666111\ttotal: 27.6s\tremaining: 21.4s\n",
            "563:\tlearn: 0.1664238\ttotal: 27.7s\tremaining: 21.4s\n",
            "564:\tlearn: 0.1663707\ttotal: 27.7s\tremaining: 21.3s\n",
            "565:\tlearn: 0.1660618\ttotal: 27.8s\tremaining: 21.3s\n",
            "566:\tlearn: 0.1657199\ttotal: 27.8s\tremaining: 21.2s\n",
            "567:\tlearn: 0.1655587\ttotal: 27.9s\tremaining: 21.2s\n",
            "568:\tlearn: 0.1652323\ttotal: 27.9s\tremaining: 21.1s\n",
            "569:\tlearn: 0.1648678\ttotal: 28s\tremaining: 21.1s\n",
            "570:\tlearn: 0.1645989\ttotal: 28s\tremaining: 21s\n",
            "571:\tlearn: 0.1641715\ttotal: 28.1s\tremaining: 21s\n",
            "572:\tlearn: 0.1639395\ttotal: 28.1s\tremaining: 20.9s\n",
            "573:\tlearn: 0.1634299\ttotal: 28.2s\tremaining: 20.9s\n",
            "574:\tlearn: 0.1630527\ttotal: 28.2s\tremaining: 20.9s\n",
            "575:\tlearn: 0.1627870\ttotal: 28.3s\tremaining: 20.8s\n",
            "576:\tlearn: 0.1623873\ttotal: 28.3s\tremaining: 20.7s\n",
            "577:\tlearn: 0.1620912\ttotal: 28.3s\tremaining: 20.7s\n",
            "578:\tlearn: 0.1618932\ttotal: 28.4s\tremaining: 20.7s\n",
            "579:\tlearn: 0.1616372\ttotal: 28.4s\tremaining: 20.6s\n",
            "580:\tlearn: 0.1612995\ttotal: 28.5s\tremaining: 20.6s\n",
            "581:\tlearn: 0.1610901\ttotal: 28.5s\tremaining: 20.5s\n",
            "582:\tlearn: 0.1608353\ttotal: 28.6s\tremaining: 20.4s\n",
            "583:\tlearn: 0.1606531\ttotal: 28.6s\tremaining: 20.4s\n",
            "584:\tlearn: 0.1604688\ttotal: 28.7s\tremaining: 20.4s\n",
            "585:\tlearn: 0.1601877\ttotal: 28.7s\tremaining: 20.3s\n",
            "586:\tlearn: 0.1598943\ttotal: 28.8s\tremaining: 20.3s\n",
            "587:\tlearn: 0.1595464\ttotal: 28.8s\tremaining: 20.2s\n",
            "588:\tlearn: 0.1592224\ttotal: 28.9s\tremaining: 20.2s\n",
            "589:\tlearn: 0.1589852\ttotal: 28.9s\tremaining: 20.1s\n",
            "590:\tlearn: 0.1585448\ttotal: 29s\tremaining: 20.1s\n",
            "591:\tlearn: 0.1582511\ttotal: 29s\tremaining: 20s\n",
            "592:\tlearn: 0.1579548\ttotal: 29.1s\tremaining: 20s\n",
            "593:\tlearn: 0.1577724\ttotal: 29.1s\tremaining: 19.9s\n",
            "594:\tlearn: 0.1575153\ttotal: 29.2s\tremaining: 19.9s\n",
            "595:\tlearn: 0.1572695\ttotal: 29.2s\tremaining: 19.8s\n",
            "596:\tlearn: 0.1570022\ttotal: 29.3s\tremaining: 19.8s\n",
            "597:\tlearn: 0.1565171\ttotal: 29.3s\tremaining: 19.7s\n",
            "598:\tlearn: 0.1561366\ttotal: 29.4s\tremaining: 19.7s\n",
            "599:\tlearn: 0.1557119\ttotal: 29.4s\tremaining: 19.6s\n",
            "600:\tlearn: 0.1554072\ttotal: 29.5s\tremaining: 19.6s\n",
            "601:\tlearn: 0.1551826\ttotal: 29.5s\tremaining: 19.5s\n",
            "602:\tlearn: 0.1549406\ttotal: 29.6s\tremaining: 19.5s\n",
            "603:\tlearn: 0.1547192\ttotal: 29.6s\tremaining: 19.4s\n",
            "604:\tlearn: 0.1545628\ttotal: 29.7s\tremaining: 19.4s\n",
            "605:\tlearn: 0.1542496\ttotal: 29.7s\tremaining: 19.3s\n",
            "606:\tlearn: 0.1540090\ttotal: 29.8s\tremaining: 19.3s\n",
            "607:\tlearn: 0.1537683\ttotal: 29.8s\tremaining: 19.2s\n",
            "608:\tlearn: 0.1534400\ttotal: 29.9s\tremaining: 19.2s\n",
            "609:\tlearn: 0.1531424\ttotal: 30s\tremaining: 19.1s\n",
            "610:\tlearn: 0.1528340\ttotal: 30s\tremaining: 19.1s\n",
            "611:\tlearn: 0.1527096\ttotal: 30.1s\tremaining: 19.1s\n",
            "612:\tlearn: 0.1523917\ttotal: 30.1s\tremaining: 19s\n",
            "613:\tlearn: 0.1520879\ttotal: 30.2s\tremaining: 19s\n",
            "614:\tlearn: 0.1518290\ttotal: 30.3s\tremaining: 18.9s\n",
            "615:\tlearn: 0.1513982\ttotal: 30.3s\tremaining: 18.9s\n",
            "616:\tlearn: 0.1512166\ttotal: 30.4s\tremaining: 18.9s\n",
            "617:\tlearn: 0.1508705\ttotal: 30.4s\tremaining: 18.8s\n",
            "618:\tlearn: 0.1505545\ttotal: 30.5s\tremaining: 18.8s\n",
            "619:\tlearn: 0.1503063\ttotal: 30.6s\tremaining: 18.7s\n",
            "620:\tlearn: 0.1500388\ttotal: 30.6s\tremaining: 18.7s\n",
            "621:\tlearn: 0.1496440\ttotal: 30.7s\tremaining: 18.6s\n",
            "622:\tlearn: 0.1494778\ttotal: 30.7s\tremaining: 18.6s\n",
            "623:\tlearn: 0.1491383\ttotal: 30.8s\tremaining: 18.6s\n",
            "624:\tlearn: 0.1490016\ttotal: 30.8s\tremaining: 18.5s\n",
            "625:\tlearn: 0.1487715\ttotal: 30.9s\tremaining: 18.4s\n",
            "626:\tlearn: 0.1484842\ttotal: 30.9s\tremaining: 18.4s\n",
            "627:\tlearn: 0.1482924\ttotal: 31s\tremaining: 18.3s\n",
            "628:\tlearn: 0.1480004\ttotal: 31s\tremaining: 18.3s\n",
            "629:\tlearn: 0.1476457\ttotal: 31.1s\tremaining: 18.2s\n",
            "630:\tlearn: 0.1475406\ttotal: 31.1s\tremaining: 18.2s\n",
            "631:\tlearn: 0.1473496\ttotal: 31.2s\tremaining: 18.1s\n",
            "632:\tlearn: 0.1470840\ttotal: 31.2s\tremaining: 18.1s\n",
            "633:\tlearn: 0.1467411\ttotal: 31.2s\tremaining: 18s\n",
            "634:\tlearn: 0.1464830\ttotal: 31.3s\tremaining: 18s\n",
            "635:\tlearn: 0.1463480\ttotal: 31.3s\tremaining: 17.9s\n",
            "636:\tlearn: 0.1460630\ttotal: 31.4s\tremaining: 17.9s\n",
            "637:\tlearn: 0.1457306\ttotal: 31.4s\tremaining: 17.8s\n",
            "638:\tlearn: 0.1456104\ttotal: 31.5s\tremaining: 17.8s\n",
            "639:\tlearn: 0.1454556\ttotal: 31.5s\tremaining: 17.7s\n",
            "640:\tlearn: 0.1450604\ttotal: 31.6s\tremaining: 17.7s\n",
            "641:\tlearn: 0.1449302\ttotal: 31.6s\tremaining: 17.6s\n",
            "642:\tlearn: 0.1445519\ttotal: 31.7s\tremaining: 17.6s\n",
            "643:\tlearn: 0.1444262\ttotal: 31.7s\tremaining: 17.5s\n",
            "644:\tlearn: 0.1442042\ttotal: 31.8s\tremaining: 17.5s\n",
            "645:\tlearn: 0.1440485\ttotal: 31.8s\tremaining: 17.4s\n",
            "646:\tlearn: 0.1438084\ttotal: 31.9s\tremaining: 17.4s\n",
            "647:\tlearn: 0.1436375\ttotal: 31.9s\tremaining: 17.3s\n",
            "648:\tlearn: 0.1435044\ttotal: 32s\tremaining: 17.3s\n",
            "649:\tlearn: 0.1433586\ttotal: 32s\tremaining: 17.2s\n",
            "650:\tlearn: 0.1431735\ttotal: 32.1s\tremaining: 17.2s\n",
            "651:\tlearn: 0.1428919\ttotal: 32.1s\tremaining: 17.1s\n",
            "652:\tlearn: 0.1427579\ttotal: 32.2s\tremaining: 17.1s\n",
            "653:\tlearn: 0.1425592\ttotal: 32.2s\tremaining: 17s\n",
            "654:\tlearn: 0.1423053\ttotal: 32.3s\tremaining: 17s\n",
            "655:\tlearn: 0.1420640\ttotal: 32.3s\tremaining: 16.9s\n",
            "656:\tlearn: 0.1418598\ttotal: 32.4s\tremaining: 16.9s\n",
            "657:\tlearn: 0.1415576\ttotal: 32.4s\tremaining: 16.8s\n",
            "658:\tlearn: 0.1412337\ttotal: 32.5s\tremaining: 16.8s\n",
            "659:\tlearn: 0.1410215\ttotal: 32.5s\tremaining: 16.7s\n",
            "660:\tlearn: 0.1406718\ttotal: 32.6s\tremaining: 16.7s\n",
            "661:\tlearn: 0.1404005\ttotal: 32.6s\tremaining: 16.6s\n",
            "662:\tlearn: 0.1401455\ttotal: 32.6s\tremaining: 16.6s\n",
            "663:\tlearn: 0.1399627\ttotal: 32.7s\tremaining: 16.5s\n",
            "664:\tlearn: 0.1397975\ttotal: 32.7s\tremaining: 16.5s\n",
            "665:\tlearn: 0.1395450\ttotal: 32.8s\tremaining: 16.4s\n",
            "666:\tlearn: 0.1394085\ttotal: 32.9s\tremaining: 16.4s\n",
            "667:\tlearn: 0.1390540\ttotal: 32.9s\tremaining: 16.4s\n",
            "668:\tlearn: 0.1386757\ttotal: 33s\tremaining: 16.3s\n",
            "669:\tlearn: 0.1384809\ttotal: 33s\tremaining: 16.3s\n",
            "670:\tlearn: 0.1382689\ttotal: 33.1s\tremaining: 16.2s\n",
            "671:\tlearn: 0.1380362\ttotal: 33.2s\tremaining: 16.2s\n",
            "672:\tlearn: 0.1378983\ttotal: 33.2s\tremaining: 16.1s\n",
            "673:\tlearn: 0.1378858\ttotal: 33.3s\tremaining: 16.1s\n",
            "674:\tlearn: 0.1376408\ttotal: 33.3s\tremaining: 16s\n",
            "675:\tlearn: 0.1373872\ttotal: 33.4s\tremaining: 16s\n",
            "676:\tlearn: 0.1371739\ttotal: 33.5s\tremaining: 16s\n",
            "677:\tlearn: 0.1368874\ttotal: 33.5s\tremaining: 15.9s\n",
            "678:\tlearn: 0.1367408\ttotal: 33.6s\tremaining: 15.9s\n",
            "679:\tlearn: 0.1366012\ttotal: 33.6s\tremaining: 15.8s\n",
            "680:\tlearn: 0.1363134\ttotal: 33.7s\tremaining: 15.8s\n",
            "681:\tlearn: 0.1361211\ttotal: 33.8s\tremaining: 15.7s\n",
            "682:\tlearn: 0.1359379\ttotal: 33.8s\tremaining: 15.7s\n",
            "683:\tlearn: 0.1357280\ttotal: 33.9s\tremaining: 15.7s\n",
            "684:\tlearn: 0.1354333\ttotal: 33.9s\tremaining: 15.6s\n",
            "685:\tlearn: 0.1351136\ttotal: 34s\tremaining: 15.6s\n",
            "686:\tlearn: 0.1348965\ttotal: 34.1s\tremaining: 15.5s\n",
            "687:\tlearn: 0.1346795\ttotal: 34.1s\tremaining: 15.5s\n",
            "688:\tlearn: 0.1343391\ttotal: 34.2s\tremaining: 15.4s\n",
            "689:\tlearn: 0.1339661\ttotal: 34.2s\tremaining: 15.4s\n",
            "690:\tlearn: 0.1337326\ttotal: 34.3s\tremaining: 15.3s\n",
            "691:\tlearn: 0.1334059\ttotal: 34.4s\tremaining: 15.3s\n",
            "692:\tlearn: 0.1332048\ttotal: 34.4s\tremaining: 15.2s\n",
            "693:\tlearn: 0.1329549\ttotal: 34.5s\tremaining: 15.2s\n",
            "694:\tlearn: 0.1328337\ttotal: 34.5s\tremaining: 15.2s\n",
            "695:\tlearn: 0.1326247\ttotal: 34.6s\tremaining: 15.1s\n",
            "696:\tlearn: 0.1323943\ttotal: 34.7s\tremaining: 15.1s\n",
            "697:\tlearn: 0.1321770\ttotal: 34.7s\tremaining: 15s\n",
            "698:\tlearn: 0.1319873\ttotal: 34.8s\tremaining: 15s\n",
            "699:\tlearn: 0.1316407\ttotal: 34.8s\tremaining: 14.9s\n",
            "700:\tlearn: 0.1314307\ttotal: 34.9s\tremaining: 14.9s\n",
            "701:\tlearn: 0.1313189\ttotal: 34.9s\tremaining: 14.8s\n",
            "702:\tlearn: 0.1311154\ttotal: 35s\tremaining: 14.8s\n",
            "703:\tlearn: 0.1309406\ttotal: 35s\tremaining: 14.7s\n",
            "704:\tlearn: 0.1307255\ttotal: 35.1s\tremaining: 14.7s\n",
            "705:\tlearn: 0.1306101\ttotal: 35.1s\tremaining: 14.6s\n",
            "706:\tlearn: 0.1303801\ttotal: 35.2s\tremaining: 14.6s\n",
            "707:\tlearn: 0.1302401\ttotal: 35.2s\tremaining: 14.5s\n",
            "708:\tlearn: 0.1300023\ttotal: 35.3s\tremaining: 14.5s\n",
            "709:\tlearn: 0.1298099\ttotal: 35.3s\tremaining: 14.4s\n",
            "710:\tlearn: 0.1295421\ttotal: 35.4s\tremaining: 14.4s\n",
            "711:\tlearn: 0.1295005\ttotal: 35.4s\tremaining: 14.3s\n",
            "712:\tlearn: 0.1293031\ttotal: 35.5s\tremaining: 14.3s\n",
            "713:\tlearn: 0.1290408\ttotal: 35.5s\tremaining: 14.2s\n",
            "714:\tlearn: 0.1288712\ttotal: 35.6s\tremaining: 14.2s\n",
            "715:\tlearn: 0.1285483\ttotal: 35.6s\tremaining: 14.1s\n",
            "716:\tlearn: 0.1284580\ttotal: 35.7s\tremaining: 14.1s\n",
            "717:\tlearn: 0.1284247\ttotal: 35.7s\tremaining: 14s\n",
            "718:\tlearn: 0.1280721\ttotal: 35.7s\tremaining: 14s\n",
            "719:\tlearn: 0.1277709\ttotal: 35.8s\tremaining: 13.9s\n",
            "720:\tlearn: 0.1275736\ttotal: 35.8s\tremaining: 13.9s\n",
            "721:\tlearn: 0.1274424\ttotal: 35.9s\tremaining: 13.8s\n",
            "722:\tlearn: 0.1272445\ttotal: 35.9s\tremaining: 13.8s\n",
            "723:\tlearn: 0.1269707\ttotal: 36s\tremaining: 13.7s\n",
            "724:\tlearn: 0.1268490\ttotal: 36s\tremaining: 13.7s\n",
            "725:\tlearn: 0.1266902\ttotal: 36.1s\tremaining: 13.6s\n",
            "726:\tlearn: 0.1264769\ttotal: 36.1s\tremaining: 13.6s\n",
            "727:\tlearn: 0.1263333\ttotal: 36.2s\tremaining: 13.5s\n",
            "728:\tlearn: 0.1260707\ttotal: 36.2s\tremaining: 13.5s\n",
            "729:\tlearn: 0.1258454\ttotal: 36.3s\tremaining: 13.4s\n",
            "730:\tlearn: 0.1255667\ttotal: 36.3s\tremaining: 13.4s\n",
            "731:\tlearn: 0.1253618\ttotal: 36.4s\tremaining: 13.3s\n",
            "732:\tlearn: 0.1252446\ttotal: 36.4s\tremaining: 13.3s\n",
            "733:\tlearn: 0.1250555\ttotal: 36.5s\tremaining: 13.2s\n",
            "734:\tlearn: 0.1249487\ttotal: 36.5s\tremaining: 13.2s\n",
            "735:\tlearn: 0.1246745\ttotal: 36.6s\tremaining: 13.1s\n",
            "736:\tlearn: 0.1245065\ttotal: 36.6s\tremaining: 13.1s\n",
            "737:\tlearn: 0.1242925\ttotal: 36.7s\tremaining: 13s\n",
            "738:\tlearn: 0.1240358\ttotal: 36.7s\tremaining: 13s\n",
            "739:\tlearn: 0.1239263\ttotal: 36.8s\tremaining: 12.9s\n",
            "740:\tlearn: 0.1237295\ttotal: 36.8s\tremaining: 12.9s\n",
            "741:\tlearn: 0.1236218\ttotal: 36.9s\tremaining: 12.8s\n",
            "742:\tlearn: 0.1233895\ttotal: 36.9s\tremaining: 12.8s\n",
            "743:\tlearn: 0.1231275\ttotal: 37s\tremaining: 12.7s\n",
            "744:\tlearn: 0.1229114\ttotal: 37s\tremaining: 12.7s\n",
            "745:\tlearn: 0.1226969\ttotal: 37.1s\tremaining: 12.6s\n",
            "746:\tlearn: 0.1225211\ttotal: 37.1s\tremaining: 12.6s\n",
            "747:\tlearn: 0.1224467\ttotal: 37.1s\tremaining: 12.5s\n",
            "748:\tlearn: 0.1222766\ttotal: 37.2s\tremaining: 12.5s\n",
            "749:\tlearn: 0.1220494\ttotal: 37.2s\tremaining: 12.4s\n",
            "750:\tlearn: 0.1218721\ttotal: 37.3s\tremaining: 12.4s\n",
            "751:\tlearn: 0.1216307\ttotal: 37.3s\tremaining: 12.3s\n",
            "752:\tlearn: 0.1212922\ttotal: 37.4s\tremaining: 12.3s\n",
            "753:\tlearn: 0.1210655\ttotal: 37.4s\tremaining: 12.2s\n",
            "754:\tlearn: 0.1209316\ttotal: 37.5s\tremaining: 12.2s\n",
            "755:\tlearn: 0.1208201\ttotal: 37.5s\tremaining: 12.1s\n",
            "756:\tlearn: 0.1206370\ttotal: 37.6s\tremaining: 12.1s\n",
            "757:\tlearn: 0.1204185\ttotal: 37.6s\tremaining: 12s\n",
            "758:\tlearn: 0.1201667\ttotal: 37.7s\tremaining: 12s\n",
            "759:\tlearn: 0.1198983\ttotal: 37.7s\tremaining: 11.9s\n",
            "760:\tlearn: 0.1197348\ttotal: 37.8s\tremaining: 11.9s\n",
            "761:\tlearn: 0.1195321\ttotal: 37.8s\tremaining: 11.8s\n",
            "762:\tlearn: 0.1194296\ttotal: 37.9s\tremaining: 11.8s\n",
            "763:\tlearn: 0.1192540\ttotal: 37.9s\tremaining: 11.7s\n",
            "764:\tlearn: 0.1192079\ttotal: 37.9s\tremaining: 11.7s\n",
            "765:\tlearn: 0.1189649\ttotal: 38s\tremaining: 11.6s\n",
            "766:\tlearn: 0.1188540\ttotal: 38s\tremaining: 11.6s\n",
            "767:\tlearn: 0.1186719\ttotal: 38.1s\tremaining: 11.5s\n",
            "768:\tlearn: 0.1185586\ttotal: 38.1s\tremaining: 11.5s\n",
            "769:\tlearn: 0.1184536\ttotal: 38.2s\tremaining: 11.4s\n",
            "770:\tlearn: 0.1183707\ttotal: 38.2s\tremaining: 11.4s\n",
            "771:\tlearn: 0.1181679\ttotal: 38.3s\tremaining: 11.3s\n",
            "772:\tlearn: 0.1180180\ttotal: 38.3s\tremaining: 11.3s\n",
            "773:\tlearn: 0.1178976\ttotal: 38.4s\tremaining: 11.2s\n",
            "774:\tlearn: 0.1176484\ttotal: 38.4s\tremaining: 11.2s\n",
            "775:\tlearn: 0.1175224\ttotal: 38.5s\tremaining: 11.1s\n",
            "776:\tlearn: 0.1174180\ttotal: 38.5s\tremaining: 11.1s\n",
            "777:\tlearn: 0.1171756\ttotal: 38.6s\tremaining: 11s\n",
            "778:\tlearn: 0.1169940\ttotal: 38.6s\tremaining: 11s\n",
            "779:\tlearn: 0.1167664\ttotal: 38.7s\tremaining: 10.9s\n",
            "780:\tlearn: 0.1165817\ttotal: 38.7s\tremaining: 10.9s\n",
            "781:\tlearn: 0.1165678\ttotal: 38.8s\tremaining: 10.8s\n",
            "782:\tlearn: 0.1163520\ttotal: 38.8s\tremaining: 10.8s\n",
            "783:\tlearn: 0.1161785\ttotal: 38.9s\tremaining: 10.7s\n",
            "784:\tlearn: 0.1159225\ttotal: 38.9s\tremaining: 10.7s\n",
            "785:\tlearn: 0.1158102\ttotal: 39s\tremaining: 10.6s\n",
            "786:\tlearn: 0.1157321\ttotal: 39s\tremaining: 10.6s\n",
            "787:\tlearn: 0.1155799\ttotal: 39s\tremaining: 10.5s\n",
            "788:\tlearn: 0.1153711\ttotal: 39.1s\tremaining: 10.5s\n",
            "789:\tlearn: 0.1151919\ttotal: 39.1s\tremaining: 10.4s\n",
            "790:\tlearn: 0.1150799\ttotal: 39.2s\tremaining: 10.4s\n",
            "791:\tlearn: 0.1149628\ttotal: 39.2s\tremaining: 10.3s\n",
            "792:\tlearn: 0.1147436\ttotal: 39.3s\tremaining: 10.3s\n",
            "793:\tlearn: 0.1145862\ttotal: 39.3s\tremaining: 10.2s\n",
            "794:\tlearn: 0.1144220\ttotal: 39.4s\tremaining: 10.2s\n",
            "795:\tlearn: 0.1142200\ttotal: 39.4s\tremaining: 10.1s\n",
            "796:\tlearn: 0.1141257\ttotal: 39.5s\tremaining: 10.1s\n",
            "797:\tlearn: 0.1139919\ttotal: 39.5s\tremaining: 10s\n",
            "798:\tlearn: 0.1138152\ttotal: 39.6s\tremaining: 9.95s\n",
            "799:\tlearn: 0.1137504\ttotal: 39.6s\tremaining: 9.9s\n",
            "800:\tlearn: 0.1133813\ttotal: 39.7s\tremaining: 9.86s\n",
            "801:\tlearn: 0.1132379\ttotal: 39.7s\tremaining: 9.8s\n",
            "802:\tlearn: 0.1131022\ttotal: 39.8s\tremaining: 9.75s\n",
            "803:\tlearn: 0.1128933\ttotal: 39.8s\tremaining: 9.7s\n",
            "804:\tlearn: 0.1128116\ttotal: 39.9s\tremaining: 9.65s\n",
            "805:\tlearn: 0.1126045\ttotal: 39.9s\tremaining: 9.61s\n",
            "806:\tlearn: 0.1125249\ttotal: 40s\tremaining: 9.56s\n",
            "807:\tlearn: 0.1122950\ttotal: 40s\tremaining: 9.51s\n",
            "808:\tlearn: 0.1122141\ttotal: 40.1s\tremaining: 9.46s\n",
            "809:\tlearn: 0.1120661\ttotal: 40.1s\tremaining: 9.41s\n",
            "810:\tlearn: 0.1119095\ttotal: 40.2s\tremaining: 9.36s\n",
            "811:\tlearn: 0.1117078\ttotal: 40.2s\tremaining: 9.31s\n",
            "812:\tlearn: 0.1114751\ttotal: 40.3s\tremaining: 9.26s\n",
            "813:\tlearn: 0.1113520\ttotal: 40.3s\tremaining: 9.21s\n",
            "814:\tlearn: 0.1112800\ttotal: 40.4s\tremaining: 9.16s\n",
            "815:\tlearn: 0.1111601\ttotal: 40.4s\tremaining: 9.11s\n",
            "816:\tlearn: 0.1109342\ttotal: 40.4s\tremaining: 9.06s\n",
            "817:\tlearn: 0.1107539\ttotal: 40.5s\tremaining: 9.01s\n",
            "818:\tlearn: 0.1105618\ttotal: 40.5s\tremaining: 8.96s\n",
            "819:\tlearn: 0.1104437\ttotal: 40.6s\tremaining: 8.91s\n",
            "820:\tlearn: 0.1102404\ttotal: 40.6s\tremaining: 8.86s\n",
            "821:\tlearn: 0.1102293\ttotal: 40.7s\tremaining: 8.81s\n",
            "822:\tlearn: 0.1099318\ttotal: 40.7s\tremaining: 8.76s\n",
            "823:\tlearn: 0.1097883\ttotal: 40.8s\tremaining: 8.71s\n",
            "824:\tlearn: 0.1096079\ttotal: 40.8s\tremaining: 8.66s\n",
            "825:\tlearn: 0.1093910\ttotal: 40.9s\tremaining: 8.61s\n",
            "826:\tlearn: 0.1092199\ttotal: 40.9s\tremaining: 8.56s\n",
            "827:\tlearn: 0.1091383\ttotal: 41s\tremaining: 8.51s\n",
            "828:\tlearn: 0.1089588\ttotal: 41s\tremaining: 8.46s\n",
            "829:\tlearn: 0.1088646\ttotal: 41.1s\tremaining: 8.41s\n",
            "830:\tlearn: 0.1087545\ttotal: 41.1s\tremaining: 8.36s\n",
            "831:\tlearn: 0.1086244\ttotal: 41.1s\tremaining: 8.31s\n",
            "832:\tlearn: 0.1084702\ttotal: 41.2s\tremaining: 8.26s\n",
            "833:\tlearn: 0.1083191\ttotal: 41.2s\tremaining: 8.21s\n",
            "834:\tlearn: 0.1081618\ttotal: 41.3s\tremaining: 8.16s\n",
            "835:\tlearn: 0.1080374\ttotal: 41.3s\tremaining: 8.11s\n",
            "836:\tlearn: 0.1078882\ttotal: 41.4s\tremaining: 8.06s\n",
            "837:\tlearn: 0.1075550\ttotal: 41.4s\tremaining: 8.01s\n",
            "838:\tlearn: 0.1072502\ttotal: 41.5s\tremaining: 7.96s\n",
            "839:\tlearn: 0.1071197\ttotal: 41.5s\tremaining: 7.91s\n",
            "840:\tlearn: 0.1069419\ttotal: 41.6s\tremaining: 7.86s\n",
            "841:\tlearn: 0.1068209\ttotal: 41.6s\tremaining: 7.81s\n",
            "842:\tlearn: 0.1067218\ttotal: 41.7s\tremaining: 7.76s\n",
            "843:\tlearn: 0.1066458\ttotal: 41.7s\tremaining: 7.71s\n",
            "844:\tlearn: 0.1065497\ttotal: 41.8s\tremaining: 7.66s\n",
            "845:\tlearn: 0.1063939\ttotal: 41.8s\tremaining: 7.61s\n",
            "846:\tlearn: 0.1062399\ttotal: 41.8s\tremaining: 7.56s\n",
            "847:\tlearn: 0.1060427\ttotal: 41.9s\tremaining: 7.51s\n",
            "848:\tlearn: 0.1058495\ttotal: 41.9s\tremaining: 7.46s\n",
            "849:\tlearn: 0.1057286\ttotal: 42s\tremaining: 7.41s\n",
            "850:\tlearn: 0.1055657\ttotal: 42s\tremaining: 7.36s\n",
            "851:\tlearn: 0.1055569\ttotal: 42.1s\tremaining: 7.31s\n",
            "852:\tlearn: 0.1054678\ttotal: 42.1s\tremaining: 7.26s\n",
            "853:\tlearn: 0.1051809\ttotal: 42.2s\tremaining: 7.21s\n",
            "854:\tlearn: 0.1050994\ttotal: 42.2s\tremaining: 7.16s\n",
            "855:\tlearn: 0.1049405\ttotal: 42.3s\tremaining: 7.11s\n",
            "856:\tlearn: 0.1047100\ttotal: 42.3s\tremaining: 7.06s\n",
            "857:\tlearn: 0.1045629\ttotal: 42.4s\tremaining: 7.01s\n",
            "858:\tlearn: 0.1043758\ttotal: 42.4s\tremaining: 6.96s\n",
            "859:\tlearn: 0.1042144\ttotal: 42.5s\tremaining: 6.91s\n",
            "860:\tlearn: 0.1040707\ttotal: 42.5s\tremaining: 6.86s\n",
            "861:\tlearn: 0.1039165\ttotal: 42.6s\tremaining: 6.81s\n",
            "862:\tlearn: 0.1038212\ttotal: 42.6s\tremaining: 6.76s\n",
            "863:\tlearn: 0.1036537\ttotal: 42.7s\tremaining: 6.71s\n",
            "864:\tlearn: 0.1036452\ttotal: 42.7s\tremaining: 6.67s\n",
            "865:\tlearn: 0.1035227\ttotal: 42.8s\tremaining: 6.62s\n",
            "866:\tlearn: 0.1034577\ttotal: 42.8s\tremaining: 6.57s\n",
            "867:\tlearn: 0.1031703\ttotal: 42.8s\tremaining: 6.52s\n",
            "868:\tlearn: 0.1030286\ttotal: 42.9s\tremaining: 6.47s\n",
            "869:\tlearn: 0.1028276\ttotal: 42.9s\tremaining: 6.42s\n",
            "870:\tlearn: 0.1027218\ttotal: 43s\tremaining: 6.37s\n",
            "871:\tlearn: 0.1025531\ttotal: 43s\tremaining: 6.32s\n",
            "872:\tlearn: 0.1023873\ttotal: 43.1s\tremaining: 6.27s\n",
            "873:\tlearn: 0.1022738\ttotal: 43.1s\tremaining: 6.22s\n",
            "874:\tlearn: 0.1021424\ttotal: 43.2s\tremaining: 6.17s\n",
            "875:\tlearn: 0.1021093\ttotal: 43.2s\tremaining: 6.12s\n",
            "876:\tlearn: 0.1018952\ttotal: 43.3s\tremaining: 6.07s\n",
            "877:\tlearn: 0.1018293\ttotal: 43.3s\tremaining: 6.02s\n",
            "878:\tlearn: 0.1016995\ttotal: 43.4s\tremaining: 5.97s\n",
            "879:\tlearn: 0.1016214\ttotal: 43.4s\tremaining: 5.92s\n",
            "880:\tlearn: 0.1014998\ttotal: 43.5s\tremaining: 5.87s\n",
            "881:\tlearn: 0.1013727\ttotal: 43.5s\tremaining: 5.82s\n",
            "882:\tlearn: 0.1011569\ttotal: 43.6s\tremaining: 5.77s\n",
            "883:\tlearn: 0.1010394\ttotal: 43.6s\tremaining: 5.72s\n",
            "884:\tlearn: 0.1009976\ttotal: 43.7s\tremaining: 5.67s\n",
            "885:\tlearn: 0.1009291\ttotal: 43.7s\tremaining: 5.62s\n",
            "886:\tlearn: 0.1007997\ttotal: 43.8s\tremaining: 5.57s\n",
            "887:\tlearn: 0.1006660\ttotal: 43.8s\tremaining: 5.52s\n",
            "888:\tlearn: 0.1005488\ttotal: 43.9s\tremaining: 5.47s\n",
            "889:\tlearn: 0.1004291\ttotal: 43.9s\tremaining: 5.43s\n",
            "890:\tlearn: 0.1003863\ttotal: 44s\tremaining: 5.38s\n",
            "891:\tlearn: 0.1003159\ttotal: 44s\tremaining: 5.33s\n",
            "892:\tlearn: 0.1000964\ttotal: 44.1s\tremaining: 5.28s\n",
            "893:\tlearn: 0.1000281\ttotal: 44.1s\tremaining: 5.23s\n",
            "894:\tlearn: 0.0998934\ttotal: 44.1s\tremaining: 5.18s\n",
            "895:\tlearn: 0.0998354\ttotal: 44.2s\tremaining: 5.13s\n",
            "896:\tlearn: 0.0996691\ttotal: 44.2s\tremaining: 5.08s\n",
            "897:\tlearn: 0.0995253\ttotal: 44.3s\tremaining: 5.03s\n",
            "898:\tlearn: 0.0993990\ttotal: 44.3s\tremaining: 4.98s\n",
            "899:\tlearn: 0.0992593\ttotal: 44.4s\tremaining: 4.93s\n",
            "900:\tlearn: 0.0990652\ttotal: 44.4s\tremaining: 4.88s\n",
            "901:\tlearn: 0.0989234\ttotal: 44.5s\tremaining: 4.83s\n",
            "902:\tlearn: 0.0988094\ttotal: 44.5s\tremaining: 4.78s\n",
            "903:\tlearn: 0.0986154\ttotal: 44.6s\tremaining: 4.74s\n",
            "904:\tlearn: 0.0985369\ttotal: 44.6s\tremaining: 4.68s\n",
            "905:\tlearn: 0.0983741\ttotal: 44.7s\tremaining: 4.64s\n",
            "906:\tlearn: 0.0983034\ttotal: 44.7s\tremaining: 4.59s\n",
            "907:\tlearn: 0.0982050\ttotal: 44.8s\tremaining: 4.54s\n",
            "908:\tlearn: 0.0980741\ttotal: 44.8s\tremaining: 4.49s\n",
            "909:\tlearn: 0.0979893\ttotal: 44.9s\tremaining: 4.44s\n",
            "910:\tlearn: 0.0978376\ttotal: 44.9s\tremaining: 4.39s\n",
            "911:\tlearn: 0.0978001\ttotal: 45s\tremaining: 4.34s\n",
            "912:\tlearn: 0.0976212\ttotal: 45s\tremaining: 4.29s\n",
            "913:\tlearn: 0.0974406\ttotal: 45.1s\tremaining: 4.24s\n",
            "914:\tlearn: 0.0973466\ttotal: 45.1s\tremaining: 4.19s\n",
            "915:\tlearn: 0.0972262\ttotal: 45.2s\tremaining: 4.14s\n",
            "916:\tlearn: 0.0971052\ttotal: 45.2s\tremaining: 4.09s\n",
            "917:\tlearn: 0.0970121\ttotal: 45.3s\tremaining: 4.04s\n",
            "918:\tlearn: 0.0968919\ttotal: 45.3s\tremaining: 4s\n",
            "919:\tlearn: 0.0967663\ttotal: 45.4s\tremaining: 3.95s\n",
            "920:\tlearn: 0.0967159\ttotal: 45.4s\tremaining: 3.9s\n",
            "921:\tlearn: 0.0965730\ttotal: 45.5s\tremaining: 3.85s\n",
            "922:\tlearn: 0.0964699\ttotal: 45.5s\tremaining: 3.8s\n",
            "923:\tlearn: 0.0964599\ttotal: 45.6s\tremaining: 3.75s\n",
            "924:\tlearn: 0.0963744\ttotal: 45.6s\tremaining: 3.7s\n",
            "925:\tlearn: 0.0962149\ttotal: 45.7s\tremaining: 3.65s\n",
            "926:\tlearn: 0.0961225\ttotal: 45.7s\tremaining: 3.6s\n",
            "927:\tlearn: 0.0960382\ttotal: 45.8s\tremaining: 3.55s\n",
            "928:\tlearn: 0.0958567\ttotal: 45.8s\tremaining: 3.5s\n",
            "929:\tlearn: 0.0956795\ttotal: 45.9s\tremaining: 3.45s\n",
            "930:\tlearn: 0.0955716\ttotal: 45.9s\tremaining: 3.4s\n",
            "931:\tlearn: 0.0954516\ttotal: 46s\tremaining: 3.35s\n",
            "932:\tlearn: 0.0953166\ttotal: 46s\tremaining: 3.3s\n",
            "933:\tlearn: 0.0952521\ttotal: 46.1s\tremaining: 3.25s\n",
            "934:\tlearn: 0.0950489\ttotal: 46.1s\tremaining: 3.21s\n",
            "935:\tlearn: 0.0950123\ttotal: 46.2s\tremaining: 3.16s\n",
            "936:\tlearn: 0.0948370\ttotal: 46.2s\tremaining: 3.11s\n",
            "937:\tlearn: 0.0946842\ttotal: 46.3s\tremaining: 3.06s\n",
            "938:\tlearn: 0.0945566\ttotal: 46.3s\tremaining: 3.01s\n",
            "939:\tlearn: 0.0943921\ttotal: 46.4s\tremaining: 2.96s\n",
            "940:\tlearn: 0.0942462\ttotal: 46.4s\tremaining: 2.91s\n",
            "941:\tlearn: 0.0941668\ttotal: 46.5s\tremaining: 2.86s\n",
            "942:\tlearn: 0.0941083\ttotal: 46.5s\tremaining: 2.81s\n",
            "943:\tlearn: 0.0939907\ttotal: 46.6s\tremaining: 2.76s\n",
            "944:\tlearn: 0.0938427\ttotal: 46.6s\tremaining: 2.71s\n",
            "945:\tlearn: 0.0937685\ttotal: 46.7s\tremaining: 2.66s\n",
            "946:\tlearn: 0.0936228\ttotal: 46.7s\tremaining: 2.61s\n",
            "947:\tlearn: 0.0935667\ttotal: 46.8s\tremaining: 2.56s\n",
            "948:\tlearn: 0.0934875\ttotal: 46.8s\tremaining: 2.52s\n",
            "949:\tlearn: 0.0934188\ttotal: 46.9s\tremaining: 2.47s\n",
            "950:\tlearn: 0.0933320\ttotal: 46.9s\tremaining: 2.42s\n",
            "951:\tlearn: 0.0932937\ttotal: 47s\tremaining: 2.37s\n",
            "952:\tlearn: 0.0932408\ttotal: 47s\tremaining: 2.32s\n",
            "953:\tlearn: 0.0931352\ttotal: 47.1s\tremaining: 2.27s\n",
            "954:\tlearn: 0.0930467\ttotal: 47.1s\tremaining: 2.22s\n",
            "955:\tlearn: 0.0929397\ttotal: 47.2s\tremaining: 2.17s\n",
            "956:\tlearn: 0.0928700\ttotal: 47.2s\tremaining: 2.12s\n",
            "957:\tlearn: 0.0927352\ttotal: 47.3s\tremaining: 2.07s\n",
            "958:\tlearn: 0.0925938\ttotal: 47.3s\tremaining: 2.02s\n",
            "959:\tlearn: 0.0925353\ttotal: 47.4s\tremaining: 1.97s\n",
            "960:\tlearn: 0.0923459\ttotal: 47.4s\tremaining: 1.92s\n",
            "961:\tlearn: 0.0921611\ttotal: 47.5s\tremaining: 1.87s\n",
            "962:\tlearn: 0.0921459\ttotal: 47.5s\tremaining: 1.82s\n",
            "963:\tlearn: 0.0920619\ttotal: 47.6s\tremaining: 1.77s\n",
            "964:\tlearn: 0.0919222\ttotal: 47.6s\tremaining: 1.73s\n",
            "965:\tlearn: 0.0917453\ttotal: 47.6s\tremaining: 1.68s\n",
            "966:\tlearn: 0.0915471\ttotal: 47.7s\tremaining: 1.63s\n",
            "967:\tlearn: 0.0913918\ttotal: 47.7s\tremaining: 1.58s\n",
            "968:\tlearn: 0.0913154\ttotal: 47.8s\tremaining: 1.53s\n",
            "969:\tlearn: 0.0912136\ttotal: 47.8s\tremaining: 1.48s\n",
            "970:\tlearn: 0.0911234\ttotal: 47.9s\tremaining: 1.43s\n",
            "971:\tlearn: 0.0910905\ttotal: 47.9s\tremaining: 1.38s\n",
            "972:\tlearn: 0.0909473\ttotal: 48s\tremaining: 1.33s\n",
            "973:\tlearn: 0.0908391\ttotal: 48s\tremaining: 1.28s\n",
            "974:\tlearn: 0.0907749\ttotal: 48.1s\tremaining: 1.23s\n",
            "975:\tlearn: 0.0906378\ttotal: 48.1s\tremaining: 1.18s\n",
            "976:\tlearn: 0.0905472\ttotal: 48.2s\tremaining: 1.13s\n",
            "977:\tlearn: 0.0904296\ttotal: 48.2s\tremaining: 1.08s\n",
            "978:\tlearn: 0.0903640\ttotal: 48.3s\tremaining: 1.03s\n",
            "979:\tlearn: 0.0902569\ttotal: 48.3s\tremaining: 986ms\n",
            "980:\tlearn: 0.0901322\ttotal: 48.4s\tremaining: 937ms\n",
            "981:\tlearn: 0.0900029\ttotal: 48.4s\tremaining: 888ms\n",
            "982:\tlearn: 0.0899060\ttotal: 48.5s\tremaining: 838ms\n",
            "983:\tlearn: 0.0897980\ttotal: 48.5s\tremaining: 789ms\n",
            "984:\tlearn: 0.0897331\ttotal: 48.6s\tremaining: 740ms\n",
            "985:\tlearn: 0.0895934\ttotal: 48.6s\tremaining: 691ms\n",
            "986:\tlearn: 0.0894912\ttotal: 48.7s\tremaining: 641ms\n",
            "987:\tlearn: 0.0893940\ttotal: 48.7s\tremaining: 592ms\n",
            "988:\tlearn: 0.0893220\ttotal: 48.8s\tremaining: 543ms\n",
            "989:\tlearn: 0.0892061\ttotal: 48.8s\tremaining: 493ms\n",
            "990:\tlearn: 0.0890876\ttotal: 48.9s\tremaining: 444ms\n",
            "991:\tlearn: 0.0890378\ttotal: 48.9s\tremaining: 395ms\n",
            "992:\tlearn: 0.0889518\ttotal: 49s\tremaining: 345ms\n",
            "993:\tlearn: 0.0887926\ttotal: 49s\tremaining: 296ms\n",
            "994:\tlearn: 0.0886449\ttotal: 49.1s\tremaining: 247ms\n",
            "995:\tlearn: 0.0885032\ttotal: 49.1s\tremaining: 197ms\n",
            "996:\tlearn: 0.0884231\ttotal: 49.2s\tremaining: 148ms\n",
            "997:\tlearn: 0.0882993\ttotal: 49.2s\tremaining: 98.6ms\n",
            "998:\tlearn: 0.0882331\ttotal: 49.3s\tremaining: 49.3ms\n",
            "999:\tlearn: 0.0880604\ttotal: 49.3s\tremaining: 0us\n",
            "0.8974358974358975\n"
          ],
          "name": "stdout"
        }
      ]
    },
    {
      "cell_type": "markdown",
      "metadata": {
        "id": "rcsxqcIOABvD",
        "colab_type": "text"
      },
      "source": [
        "Overall performance goes up to 89%"
      ]
    },
    {
      "cell_type": "code",
      "metadata": {
        "id": "1523OUv8AHrX",
        "colab_type": "code",
        "colab": {
          "base_uri": "https://localhost:8080/",
          "height": 221
        },
        "outputId": "0c9d6aac-6995-40d6-f68d-68ffdef8acf7"
      },
      "source": [
        "# Performance evaluation using the classification_report\n",
        "\n",
        "target_names = encoder.inverse_transform(list(set(y_test))) # get real region names back using inverse_transform\n",
        "\n",
        "y_pred = model.predict(X_test) # predict from the testset\n",
        "\n",
        "print(classification_report(y_test, y_pred, target_names=target_names)) #Print out the report"
      ],
      "execution_count": 31,
      "outputs": [
        {
          "output_type": "stream",
          "text": [
            "              precision    recall  f1-score   support\n",
            "\n",
            "      Africa       0.50      0.62      0.56         8\n",
            "    Americas       0.93      0.91      0.92        46\n",
            "        Asia       0.96      0.86      0.91        51\n",
            "      Europe       0.89      0.98      0.93        48\n",
            "     Oceania       1.00      0.67      0.80         3\n",
            "\n",
            "    accuracy                           0.90       156\n",
            "   macro avg       0.86      0.81      0.82       156\n",
            "weighted avg       0.91      0.90      0.90       156\n",
            "\n"
          ],
          "name": "stdout"
        }
      ]
    },
    {
      "cell_type": "code",
      "metadata": {
        "id": "jWlZBW_7AOMT",
        "colab_type": "code",
        "colab": {
          "base_uri": "https://localhost:8080/",
          "height": 636
        },
        "outputId": "d5119ab0-30c9-41cd-aaca-43b6e5b57340"
      },
      "source": [
        "# calculate the confusion matrix\n",
        "confmatrix = confusion_matrix(y_test,y_pred) \n",
        "\n",
        "# Let's plot\n",
        "plot_confusion_matrix(conf_mat=confmatrix,\n",
        "                                colorbar=True,\n",
        "                                show_absolute=True,\n",
        "                                show_normed=True,\n",
        "                                class_names = target_names)"
      ],
      "execution_count": 32,
      "outputs": [
        {
          "output_type": "execute_result",
          "data": {
            "text/plain": [
              "(<Figure size 720x720 with 2 Axes>,\n",
              " <matplotlib.axes._subplots.AxesSubplot at 0x7f6eae852940>)"
            ]
          },
          "metadata": {
            "tags": []
          },
          "execution_count": 32
        },
        {
          "output_type": "display_data",
          "data": {
            "image/png": "[encoded data removed]",
            "text/plain": [
              "<Figure size 720x720 with 2 Axes>"
            ]
          },
          "metadata": {
            "tags": []
          }
        }
      ]
    },
    {
      "cell_type": "markdown",
      "metadata": {
        "id": "o8eUvP6uASfd",
        "colab_type": "text"
      },
      "source": [
        "Catboost is (out of the box and with standard-settings) doing much better with the small classes (Africa and Oceania). "
      ]
    },
    {
      "cell_type": "markdown",
      "metadata": {
        "id": "-R9bYtXwAiop",
        "colab_type": "text"
      },
      "source": [
        "### XGBoost\n",
        "Finally, XGBoost (again we will use standard settings - i.e. no hyperameter tuning)"
      ]
    },
    {
      "cell_type": "code",
      "metadata": {
        "id": "PuFFNCzC1bX6",
        "colab_type": "code",
        "outputId": "efbeee7d-8780-43a9-bfcd-e44ef8c69434",
        "colab": {
          "base_uri": "https://localhost:8080/",
          "height": 51
        }
      },
      "source": [
        "import xgboost as xgb\n",
        "\n",
        "model = xgb.XGBClassifier()\n",
        "\n",
        "scores = cross_val_score(model, X_train, y_train, cv = 5)\n",
        "print(scores)\n",
        "\n",
        "model.fit(X_train, y_train)\n",
        "print(model.score(X_test, y_test))"
      ],
      "execution_count": 34,
      "outputs": [
        {
          "output_type": "stream",
          "text": [
            "[0.8976378  0.88095238 0.87903226 0.86290323 0.89430894]\n",
            "0.9102564102564102\n"
          ],
          "name": "stdout"
        }
      ]
    },
    {
      "cell_type": "markdown",
      "metadata": {
        "id": "TjFtXk9DAz48",
        "colab_type": "text"
      },
      "source": [
        "Overall performance is even higher as with Catboost. But let's see how the algorighm is dealing with our problematic small classes"
      ]
    },
    {
      "cell_type": "code",
      "metadata": {
        "id": "m12vHNqyLg9b",
        "colab_type": "code",
        "colab": {
          "base_uri": "https://localhost:8080/",
          "height": 221
        },
        "outputId": "486e4519-5c7e-4bae-8461-bf0c05e40cb8"
      },
      "source": [
        "# Performance evaluation using the classification_report\n",
        "\n",
        "target_names = encoder.inverse_transform(list(set(y_test))) # get real region names back using inverse_transform\n",
        "\n",
        "y_pred = model.predict(X_test) # predict from the testset\n",
        "\n",
        "print(classification_report(y_test, y_pred, target_names=target_names)) #Print out the report"
      ],
      "execution_count": 35,
      "outputs": [
        {
          "output_type": "stream",
          "text": [
            "              precision    recall  f1-score   support\n",
            "\n",
            "      Africa       0.50      0.50      0.50         8\n",
            "    Americas       0.95      0.89      0.92        46\n",
            "        Asia       0.91      0.94      0.92        51\n",
            "      Europe       0.94      0.98      0.96        48\n",
            "     Oceania       1.00      0.67      0.80         3\n",
            "\n",
            "    accuracy                           0.91       156\n",
            "   macro avg       0.86      0.80      0.82       156\n",
            "weighted avg       0.91      0.91      0.91       156\n",
            "\n"
          ],
          "name": "stdout"
        }
      ]
    },
    {
      "cell_type": "code",
      "metadata": {
        "id": "KBzruzJKA84i",
        "colab_type": "code",
        "colab": {
          "base_uri": "https://localhost:8080/",
          "height": 636
        },
        "outputId": "5029be30-df03-4b72-b5f6-fd624af5e5c2"
      },
      "source": [
        "# calculate the confusion matrix\n",
        "confmatrix = confusion_matrix(y_test,y_pred) \n",
        "\n",
        "# Let's plot\n",
        "plot_confusion_matrix(conf_mat=confmatrix,\n",
        "                                colorbar=True,\n",
        "                                show_absolute=True,\n",
        "                                show_normed=True,\n",
        "                                class_names = target_names)"
      ],
      "execution_count": 36,
      "outputs": [
        {
          "output_type": "execute_result",
          "data": {
            "text/plain": [
              "(<Figure size 720x720 with 2 Axes>,\n",
              " <matplotlib.axes._subplots.AxesSubplot at 0x7f6ea5a1ac50>)"
            ]
          },
          "metadata": {
            "tags": []
          },
          "execution_count": 36
        },
        {
          "output_type": "display_data",
          "data": {
            "image/png": "[encoded data removed]",
            "text/plain": [
              "<Figure size 720x720 with 2 Axes>"
            ]
          },
          "metadata": {
            "tags": []
          }
        }
      ]
    },
    {
      "cell_type": "markdown",
      "metadata": {
        "id": "qRahPtwYBHKL",
        "colab_type": "text"
      },
      "source": [
        "Overall, it seems XGBoost wins this time.\n",
        "\n",
        "This notebook is only a quick example of the machanics of valious algorithms on small data. \n",
        "In real-world situations we would need to spend much more time tuning the models. Also: More compelx models do not always perform better..."
      ]
    }
  ]
}