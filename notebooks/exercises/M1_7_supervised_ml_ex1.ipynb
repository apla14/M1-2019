{
  "nbformat": 4,
  "nbformat_minor": 0,
  "metadata": {
    "kernelspec": {
      "display_name": "R",
      "language": "R",
      "name": "ir"
    },
    "language_info": {
      "mimetype": "text/x-r-source",
      "name": "R",
      "pygments_lexer": "r",
      "version": "3.4.2",
      "file_extension": ".r",
      "codemirror_mode": "r"
    },
    "colab": {
      "name": "M1_7_supervised_ml_ex1.ipynb",
      "version": "0.3.2",
      "provenance": []
    }
  },
  "cells": [
    {
      "cell_type": "markdown",
      "metadata": {
        "_uuid": "fe5ae36807a27aebe44896afa022b6a54ccd2108",
        "_execution_state": "idle",
        "trusted": false,
        "id": "dUM84zz8Epk5",
        "colab_type": "text"
      },
      "source": [
        "# Session Setup"
      ]
    },
    {
      "cell_type": "code",
      "metadata": {
        "trusted": true,
        "_uuid": "13e003e399af764d2c4415e5d4b7657d08516390",
        "id": "iuFlKYVREpk-",
        "colab_type": "code",
        "colab": {
          "base_uri": "https://localhost:8080/",
          "height": 219
        },
        "outputId": "2a45892f-0018-4258-cd70-35fce7b70f94"
      },
      "source": [
        "install.packages(\"caret\")\n",
        "library(tidyverse)\n",
        "library(magrittr)\n",
        "library(caret)"
      ],
      "execution_count": 3,
      "outputs": [
        {
          "output_type": "stream",
          "text": [
            "Installing package into ‘/usr/local/lib/R/site-library’\n",
            "(as ‘lib’ is unspecified)\n",
            "also installing the dependencies ‘numDeriv’, ‘SQUAREM’, ‘lava’, ‘prodlim’, ‘iterators’, ‘data.table’, ‘gower’, ‘ipred’, ‘timeDate’, ‘foreach’, ‘ModelMetrics’, ‘recipes’\n",
            "\n",
            "Loading required package: lattice\n",
            "\n",
            "Attaching package: ‘caret’\n",
            "\n",
            "The following object is masked from ‘package:purrr’:\n",
            "\n",
            "    lift\n",
            "\n"
          ],
          "name": "stderr"
        }
      ]
    },
    {
      "cell_type": "markdown",
      "metadata": {
        "_uuid": "b1aed849525643b5016971555eda0cf6082bfa06",
        "id": "25-MQRvwEplG",
        "colab_type": "text"
      },
      "source": [
        "# Data loading and inspection\n",
        "Load the Wine dataset and check a bit"
      ]
    },
    {
      "cell_type": "code",
      "metadata": {
        "trusted": true,
        "_uuid": "72ec6b7204421424ecf70745e23c7d48ab98ee5d",
        "id": "hiVoDoavEplJ",
        "colab_type": "code",
        "colab": {
          "base_uri": "https://localhost:8080/",
          "height": 287
        },
        "outputId": "9957a185-7fcd-4e7b-ab77-5af19135fe9c"
      },
      "source": [
        "wine <- read_csv(\"https://www.dropbox.com/s/mcs7kpyox7a5e61/wine_quality.csv?dl=1\")"
      ],
      "execution_count": 7,
      "outputs": [
        {
          "output_type": "stream",
          "text": [
            "Parsed with column specification:\n",
            "cols(\n",
            "  id = \u001b[32mcol_double()\u001b[39m,\n",
            "  fixed.acidity = \u001b[32mcol_double()\u001b[39m,\n",
            "  volatile.acidity = \u001b[32mcol_double()\u001b[39m,\n",
            "  citric.acid = \u001b[32mcol_double()\u001b[39m,\n",
            "  residual.sugar = \u001b[32mcol_double()\u001b[39m,\n",
            "  chlorides = \u001b[32mcol_double()\u001b[39m,\n",
            "  free.sulfur.dioxide = \u001b[32mcol_double()\u001b[39m,\n",
            "  total.sulfur.dioxide = \u001b[32mcol_double()\u001b[39m,\n",
            "  density = \u001b[32mcol_double()\u001b[39m,\n",
            "  pH = \u001b[32mcol_double()\u001b[39m,\n",
            "  sulphates = \u001b[32mcol_double()\u001b[39m,\n",
            "  alcohol = \u001b[32mcol_double()\u001b[39m,\n",
            "  quality = \u001b[32mcol_double()\u001b[39m\n",
            ")\n"
          ],
          "name": "stderr"
        }
      ]
    },
    {
      "cell_type": "code",
      "metadata": {
        "trusted": true,
        "_uuid": "0251cffef0dd0e07f9b5436ef330fb5784243102",
        "id": "SaI9WX4pEplS",
        "colab_type": "code",
        "colab": {
          "base_uri": "https://localhost:8080/",
          "height": 195
        },
        "outputId": "8fe1faef-e4f7-41bd-8f82-a21aabe7c544"
      },
      "source": [
        "wine %>% head()"
      ],
      "execution_count": 8,
      "outputs": [
        {
          "output_type": "display_data",
          "data": {
            "text/plain": [
              "  id fixed.acidity volatile.acidity citric.acid residual.sugar chlorides\n",
              "1 1   7.4          0.70             0.00        1.9            0.076    \n",
              "2 2   7.8          0.88             0.00        2.6            0.098    \n",
              "3 3   7.8          0.76             0.04        2.3            0.092    \n",
              "4 4  11.2          0.28             0.56        1.9            0.075    \n",
              "5 5   7.4          0.70             0.00        1.9            0.076    \n",
              "6 6   7.4          0.66             0.00        1.8            0.075    \n",
              "  free.sulfur.dioxide total.sulfur.dioxide density pH   sulphates alcohol\n",
              "1 11                  34                   0.9978  3.51 0.56      9.4    \n",
              "2 25                  67                   0.9968  3.20 0.68      9.8    \n",
              "3 15                  54                   0.9970  3.26 0.65      9.8    \n",
              "4 17                  60                   0.9980  3.16 0.58      9.8    \n",
              "5 11                  34                   0.9978  3.51 0.56      9.4    \n",
              "6 13                  40                   0.9978  3.51 0.56      9.4    \n",
              "  quality\n",
              "1 5      \n",
              "2 5      \n",
              "3 5      \n",
              "4 6      \n",
              "5 5      \n",
              "6 5      "
            ],
            "text/latex": "A tibble: 6 × 13\n\\begin{tabular}{r|lllllllllllll}\n id & fixed.acidity & volatile.acidity & citric.acid & residual.sugar & chlorides & free.sulfur.dioxide & total.sulfur.dioxide & density & pH & sulphates & alcohol & quality\\\\\n <dbl> & <dbl> & <dbl> & <dbl> & <dbl> & <dbl> & <dbl> & <dbl> & <dbl> & <dbl> & <dbl> & <dbl> & <dbl>\\\\\n\\hline\n\t 1 &  7.4 & 0.70 & 0.00 & 1.9 & 0.076 & 11 & 34 & 0.9978 & 3.51 & 0.56 & 9.4 & 5\\\\\n\t 2 &  7.8 & 0.88 & 0.00 & 2.6 & 0.098 & 25 & 67 & 0.9968 & 3.20 & 0.68 & 9.8 & 5\\\\\n\t 3 &  7.8 & 0.76 & 0.04 & 2.3 & 0.092 & 15 & 54 & 0.9970 & 3.26 & 0.65 & 9.8 & 5\\\\\n\t 4 & 11.2 & 0.28 & 0.56 & 1.9 & 0.075 & 17 & 60 & 0.9980 & 3.16 & 0.58 & 9.8 & 6\\\\\n\t 5 &  7.4 & 0.70 & 0.00 & 1.9 & 0.076 & 11 & 34 & 0.9978 & 3.51 & 0.56 & 9.4 & 5\\\\\n\t 6 &  7.4 & 0.66 & 0.00 & 1.8 & 0.075 & 13 & 40 & 0.9978 & 3.51 & 0.56 & 9.4 & 5\\\\\n\\end{tabular}\n",
            "text/markdown": "\nA tibble: 6 × 13\n\n| id &lt;dbl&gt; | fixed.acidity &lt;dbl&gt; | volatile.acidity &lt;dbl&gt; | citric.acid &lt;dbl&gt; | residual.sugar &lt;dbl&gt; | chlorides &lt;dbl&gt; | free.sulfur.dioxide &lt;dbl&gt; | total.sulfur.dioxide &lt;dbl&gt; | density &lt;dbl&gt; | pH &lt;dbl&gt; | sulphates &lt;dbl&gt; | alcohol &lt;dbl&gt; | quality &lt;dbl&gt; |\n|---|---|---|---|---|---|---|---|---|---|---|---|---|\n| 1 |  7.4 | 0.70 | 0.00 | 1.9 | 0.076 | 11 | 34 | 0.9978 | 3.51 | 0.56 | 9.4 | 5 |\n| 2 |  7.8 | 0.88 | 0.00 | 2.6 | 0.098 | 25 | 67 | 0.9968 | 3.20 | 0.68 | 9.8 | 5 |\n| 3 |  7.8 | 0.76 | 0.04 | 2.3 | 0.092 | 15 | 54 | 0.9970 | 3.26 | 0.65 | 9.8 | 5 |\n| 4 | 11.2 | 0.28 | 0.56 | 1.9 | 0.075 | 17 | 60 | 0.9980 | 3.16 | 0.58 | 9.8 | 6 |\n| 5 |  7.4 | 0.70 | 0.00 | 1.9 | 0.076 | 11 | 34 | 0.9978 | 3.51 | 0.56 | 9.4 | 5 |\n| 6 |  7.4 | 0.66 | 0.00 | 1.8 | 0.075 | 13 | 40 | 0.9978 | 3.51 | 0.56 | 9.4 | 5 |\n\n",
            "text/html": [
              "<table>\n",
              "<caption>A tibble: 6 × 13</caption>\n",
              "<thead>\n",
              "\t<tr><th scope=col>id</th><th scope=col>fixed.acidity</th><th scope=col>volatile.acidity</th><th scope=col>citric.acid</th><th scope=col>residual.sugar</th><th scope=col>chlorides</th><th scope=col>free.sulfur.dioxide</th><th scope=col>total.sulfur.dioxide</th><th scope=col>density</th><th scope=col>pH</th><th scope=col>sulphates</th><th scope=col>alcohol</th><th scope=col>quality</th></tr>\n",
              "\t<tr><th scope=col>&lt;dbl&gt;</th><th scope=col>&lt;dbl&gt;</th><th scope=col>&lt;dbl&gt;</th><th scope=col>&lt;dbl&gt;</th><th scope=col>&lt;dbl&gt;</th><th scope=col>&lt;dbl&gt;</th><th scope=col>&lt;dbl&gt;</th><th scope=col>&lt;dbl&gt;</th><th scope=col>&lt;dbl&gt;</th><th scope=col>&lt;dbl&gt;</th><th scope=col>&lt;dbl&gt;</th><th scope=col>&lt;dbl&gt;</th><th scope=col>&lt;dbl&gt;</th></tr>\n",
              "</thead>\n",
              "<tbody>\n",
              "\t<tr><td>1</td><td> 7.4</td><td>0.70</td><td>0.00</td><td>1.9</td><td>0.076</td><td>11</td><td>34</td><td>0.9978</td><td>3.51</td><td>0.56</td><td>9.4</td><td>5</td></tr>\n",
              "\t<tr><td>2</td><td> 7.8</td><td>0.88</td><td>0.00</td><td>2.6</td><td>0.098</td><td>25</td><td>67</td><td>0.9968</td><td>3.20</td><td>0.68</td><td>9.8</td><td>5</td></tr>\n",
              "\t<tr><td>3</td><td> 7.8</td><td>0.76</td><td>0.04</td><td>2.3</td><td>0.092</td><td>15</td><td>54</td><td>0.9970</td><td>3.26</td><td>0.65</td><td>9.8</td><td>5</td></tr>\n",
              "\t<tr><td>4</td><td>11.2</td><td>0.28</td><td>0.56</td><td>1.9</td><td>0.075</td><td>17</td><td>60</td><td>0.9980</td><td>3.16</td><td>0.58</td><td>9.8</td><td>6</td></tr>\n",
              "\t<tr><td>5</td><td> 7.4</td><td>0.70</td><td>0.00</td><td>1.9</td><td>0.076</td><td>11</td><td>34</td><td>0.9978</td><td>3.51</td><td>0.56</td><td>9.4</td><td>5</td></tr>\n",
              "\t<tr><td>6</td><td> 7.4</td><td>0.66</td><td>0.00</td><td>1.8</td><td>0.075</td><td>13</td><td>40</td><td>0.9978</td><td>3.51</td><td>0.56</td><td>9.4</td><td>5</td></tr>\n",
              "</tbody>\n",
              "</table>\n"
            ]
          },
          "metadata": {
            "tags": []
          }
        }
      ]
    },
    {
      "cell_type": "code",
      "metadata": {
        "id": "ZCEDw_6pGgPR",
        "colab_type": "code",
        "colab": {
          "base_uri": "https://localhost:8080/",
          "height": 270
        },
        "outputId": "6d2dd2ba-8141-494f-fbc6-1b2623b09c84"
      },
      "source": [
        "wine %>% glimpse()"
      ],
      "execution_count": 9,
      "outputs": [
        {
          "output_type": "stream",
          "text": [
            "Observations: 1,599\n",
            "Variables: 13\n",
            "$ id                   \u001b[3m\u001b[90m<dbl>\u001b[39m\u001b[23m 1, 2, 3, 4, 5, 6, 7, 8, 9, 10, 11, 12, 13, 14, 1…\n",
            "$ fixed.acidity        \u001b[3m\u001b[90m<dbl>\u001b[39m\u001b[23m 7.4, 7.8, 7.8, 11.2, 7.4, 7.4, 7.9, 7.3, 7.8, 7.…\n",
            "$ volatile.acidity     \u001b[3m\u001b[90m<dbl>\u001b[39m\u001b[23m 0.700, 0.880, 0.760, 0.280, 0.700, 0.660, 0.600,…\n",
            "$ citric.acid          \u001b[3m\u001b[90m<dbl>\u001b[39m\u001b[23m 0.00, 0.00, 0.04, 0.56, 0.00, 0.00, 0.06, 0.00, …\n",
            "$ residual.sugar       \u001b[3m\u001b[90m<dbl>\u001b[39m\u001b[23m 1.9, 2.6, 2.3, 1.9, 1.9, 1.8, 1.6, 1.2, 2.0, 6.1…\n",
            "$ chlorides            \u001b[3m\u001b[90m<dbl>\u001b[39m\u001b[23m 0.076, 0.098, 0.092, 0.075, 0.076, 0.075, 0.069,…\n",
            "$ free.sulfur.dioxide  \u001b[3m\u001b[90m<dbl>\u001b[39m\u001b[23m 11, 25, 15, 17, 11, 13, 15, 15, 9, 17, 15, 17, 1…\n",
            "$ total.sulfur.dioxide \u001b[3m\u001b[90m<dbl>\u001b[39m\u001b[23m 34, 67, 54, 60, 34, 40, 59, 21, 18, 102, 65, 102…\n",
            "$ density              \u001b[3m\u001b[90m<dbl>\u001b[39m\u001b[23m 0.9978, 0.9968, 0.9970, 0.9980, 0.9978, 0.9978, …\n",
            "$ pH                   \u001b[3m\u001b[90m<dbl>\u001b[39m\u001b[23m 3.51, 3.20, 3.26, 3.16, 3.51, 3.51, 3.30, 3.39, …\n",
            "$ sulphates            \u001b[3m\u001b[90m<dbl>\u001b[39m\u001b[23m 0.56, 0.68, 0.65, 0.58, 0.56, 0.56, 0.46, 0.47, …\n",
            "$ alcohol              \u001b[3m\u001b[90m<dbl>\u001b[39m\u001b[23m 9.4, 9.8, 9.8, 9.8, 9.4, 9.4, 9.4, 10.0, 9.5, 10…\n",
            "$ quality              \u001b[3m\u001b[90m<dbl>\u001b[39m\u001b[23m 5, 5, 5, 6, 5, 5, 5, 7, 7, 5, 5, 5, 5, 5, 5, 5, …\n"
          ],
          "name": "stdout"
        }
      ]
    },
    {
      "cell_type": "code",
      "metadata": {
        "id": "0GQof3h4Gpx6",
        "colab_type": "code",
        "colab": {
          "base_uri": "https://localhost:8080/",
          "height": 195
        },
        "outputId": "32408489-4229-4bf5-f9f3-2d484ebd77ee"
      },
      "source": [
        "# We are interested in predicting wine quality.\n",
        "wine %>% count(quality)"
      ],
      "execution_count": 10,
      "outputs": [
        {
          "output_type": "display_data",
          "data": {
            "text/plain": [
              "  quality n  \n",
              "1 3        10\n",
              "2 4        53\n",
              "3 5       681\n",
              "4 6       638\n",
              "5 7       199\n",
              "6 8        18"
            ],
            "text/latex": "A tibble: 6 × 2\n\\begin{tabular}{r|ll}\n quality & n\\\\\n <dbl> & <int>\\\\\n\\hline\n\t 3 &  10\\\\\n\t 4 &  53\\\\\n\t 5 & 681\\\\\n\t 6 & 638\\\\\n\t 7 & 199\\\\\n\t 8 &  18\\\\\n\\end{tabular}\n",
            "text/markdown": "\nA tibble: 6 × 2\n\n| quality &lt;dbl&gt; | n &lt;int&gt; |\n|---|---|\n| 3 |  10 |\n| 4 |  53 |\n| 5 | 681 |\n| 6 | 638 |\n| 7 | 199 |\n| 8 |  18 |\n\n",
            "text/html": [
              "<table>\n",
              "<caption>A tibble: 6 × 2</caption>\n",
              "<thead>\n",
              "\t<tr><th scope=col>quality</th><th scope=col>n</th></tr>\n",
              "\t<tr><th scope=col>&lt;dbl&gt;</th><th scope=col>&lt;int&gt;</th></tr>\n",
              "</thead>\n",
              "<tbody>\n",
              "\t<tr><td>3</td><td> 10</td></tr>\n",
              "\t<tr><td>4</td><td> 53</td></tr>\n",
              "\t<tr><td>5</td><td>681</td></tr>\n",
              "\t<tr><td>6</td><td>638</td></tr>\n",
              "\t<tr><td>7</td><td>199</td></tr>\n",
              "\t<tr><td>8</td><td> 18</td></tr>\n",
              "</tbody>\n",
              "</table>\n"
            ]
          },
          "metadata": {
            "tags": []
          }
        }
      ]
    },
    {
      "cell_type": "markdown",
      "metadata": {
        "id": "5uMwyFALGPCs",
        "colab_type": "text"
      },
      "source": [
        "# Some preprocessing\n",
        "1. Create a new variable called good whether the quality is equal or above 6"
      ]
    },
    {
      "cell_type": "markdown",
      "metadata": {
        "_uuid": "24b298ae9a43a459baab7f6d3954dd8ce20be204",
        "id": "I6YyPIBnEplY",
        "colab_type": "text"
      },
      "source": [
        "# Partition the data"
      ]
    },
    {
      "cell_type": "code",
      "metadata": {
        "trusted": true,
        "_uuid": "b5828ba80cf9fd41478788434b3222a452059090",
        "id": "ichei3U7EplZ",
        "colab_type": "code",
        "colab": {}
      },
      "source": [
        "index <- createDataPartition(***)\n",
        "\n",
        "training <- ***\n",
        "testing <- ***"
      ],
      "execution_count": 0,
      "outputs": []
    },
    {
      "cell_type": "markdown",
      "metadata": {
        "_uuid": "cc53fa585bd241af98b7f94fdb322770919bc964",
        "id": "k4bQE3NKEplg",
        "colab_type": "text"
      },
      "source": [
        "# ML preprocessing"
      ]
    },
    {
      "cell_type": "code",
      "metadata": {
        "trusted": true,
        "_uuid": "fb148172246f9105fdb94a7dbe6648af8de6572f",
        "id": "wWQUQ5BpEplj",
        "colab_type": "code",
        "colab": {}
      },
      "source": [
        "x_train <- training %>% \n",
        "  select(-good, -quality) %>% \n",
        "  scale()\n",
        "\n",
        "y_train <- to_categorical(training$good, 2)\n",
        "\n",
        "x_test <- testing %>% \n",
        "  select(-good, -quality) %>% \n",
        "  scale()\n",
        "\n",
        "y_test <- to_categorical(testing$good, 2)"
      ],
      "execution_count": 0,
      "outputs": []
    }
  ]
}