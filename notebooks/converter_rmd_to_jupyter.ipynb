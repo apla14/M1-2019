{
  "nbformat": 4,
  "nbformat_minor": 0,
  "metadata": {
    "colab": {
      "name": "Notebook converter!",
      "version": "0.3.2",
      "provenance": [],
      "collapsed_sections": [],
      "include_colab_link": true
    },
    "kernelspec": {
      "name": "python3",
      "display_name": "Python 3"
    }
  },
  "cells": [
    {
      "cell_type": "markdown",
      "metadata": {
        "id": "view-in-github",
        "colab_type": "text"
      },
      "source": [
        "<a href=\"https://colab.research.google.com/github/SDS-AAU/M1-2019/blob/master/notebooks/converter_rmd_to_jupyter.ipynb\" target=\"_parent\"><img src=\"https://colab.research.google.com/assets/colab-badge.svg\" alt=\"Open In Colab\"/></a>"
      ]
    },
    {
      "cell_type": "markdown",
      "metadata": {
        "id": "JJ0_22nheSxl",
        "colab_type": "text"
      },
      "source": [
        "# R Markdown (RMD) to Jypyter (ipynb) converter\n",
        "\n",
        "There it is: A convenient way to convert R Markdowns to Jupyter notebooks. You just need to do the following:\n",
        "\n",
        "    1. Upload the rmd to be converted (click on arrow left from here -> Files -> Upload)\n",
        "    2. Adjust the `filename` in cell 2 in this notebook according to the filename (for both .ipynb and .rmd)\n",
        "    3. Execute both cells\n",
        "    4. Refresh the Files tab on the left.\n",
        "    5. Rightclick on the newly created .ipynb version and download\n",
        "\n",
        "This notebook can now be uploaded to `colab`. Remember to use the `demo.ipynb` from [IRkernel Github](https://colab.research.google.com/github/IRkernel/IRkernel/blob/master/example-notebooks/Demo.ipynb) as template where you upload the notebook.\n",
        "\n",
        "We hope you will like this :)"
      ]
    },
    {
      "cell_type": "code",
      "metadata": {
        "id": "pE1SGp7igCXC",
        "colab_type": "code",
        "colab": {}
      },
      "source": [
        "#run this\n",
        "!pip3 install ipyrmd"
      ],
      "execution_count": 0,
      "outputs": []
    },
    {
      "cell_type": "code",
      "metadata": {
        "id": "TogSTjNWgyLZ",
        "colab_type": "code",
        "colab": {}
      },
      "source": [
        "# upload the file and run this (change file names)\n",
        "!ipyrmd --to ipynb --from Rmd -o filename.ipynb filename.Rmd"
      ],
      "execution_count": 0,
      "outputs": []
    }
  ]
}