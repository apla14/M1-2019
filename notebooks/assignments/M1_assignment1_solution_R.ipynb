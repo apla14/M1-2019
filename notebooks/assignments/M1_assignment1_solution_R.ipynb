{
  "nbformat": 4,
  "nbformat_minor": 0,
  "metadata": {
    "kernelspec": {
      "display_name": "R",
      "language": "R",
      "name": "ir"
    },
    "language_info": {
      "mimetype": "text/x-r-source",
      "name": "R",
      "pygments_lexer": "r",
      "version": "3.4.2",
      "file_extension": ".r",
      "codemirror_mode": "r"
    },
    "colab": {
      "name": "SDS_M2_dataviz.ipynb",
      "version": "0.3.2",
      "provenance": [],
      "collapsed_sections": []
    }
  },
  "cells": [
    {
      "cell_type": "code",
      "metadata": {
        "_uuid": "dc89402886b916fd5a6df3e7937920a8e1ecce18",
        "_execution_state": "idle",
        "trusted": true,
        "id": "pr_D69HbWCwP",
        "colab_type": "code",
        "colab": {}
      },
      "source": [
        "## Importing packages\n",
        "library(tidyverse) # metapackage with lots of helpful functions\n",
        "library(magrittr) # for advanced piping, eg. %<>% (pipe-and-assign)\n",
        "library(lubridate) # for working with dates and times"
      ],
      "execution_count": 0,
      "outputs": []
    },
    {
      "cell_type": "markdown",
      "metadata": {
        "id": "yWB9YYB2pa1d",
        "colab_type": "text"
      },
      "source": [
        "# Load Data"
      ]
    },
    {
      "cell_type": "code",
      "metadata": {
        "id": "OQW1Tq64pdMR",
        "colab_type": "code",
        "colab": {}
      },
      "source": [
        "# I use the read_csv() function of the readr package (loaded automatically with tidyverse). It is faster and less prone to errors than the base R read.csv() function. \n",
        "# It also produces a tibble (dplyr version) instead of a base R data.frame. A main difference is that the tibble does not by default convert strings to factors like the data.frame (which often causes issues when joining data)\n",
        "trips <- read_csv(\"https://github.com/SDS-AAU/M1-2019/raw/master/data/trips.csv\")\n",
        "trips %>% glimpse()"
      ],
      "execution_count": 0,
      "outputs": []
    },
    {
      "cell_type": "code",
      "metadata": {
        "id": "z0Xt6ZpwpjGi",
        "colab_type": "code",
        "colab": {}
      },
      "source": [
        "people <- read_csv(\"https://github.com/SDS-AAU/M1-2019/raw/master/data/people.csv\")\n",
        "people %>% glimpse()"
      ],
      "execution_count": 0,
      "outputs": []
    },
    {
      "cell_type": "code",
      "metadata": {
        "id": "ggy1yv97pkkE",
        "colab_type": "code",
        "colab": {}
      },
      "source": [
        "country <- read_csv(\"https://github.com/SDS-AAU/M1-2019/raw/master/data/countrylist.csv\")\n",
        "country %>% glimpse()"
      ],
      "execution_count": 0,
      "outputs": []
    },
    {
      "cell_type": "markdown",
      "metadata": {
        "id": "eP1XWKX7q1L1",
        "colab_type": "text"
      },
      "source": [
        "# 1. Preprocessing"
      ]
    },
    {
      "cell_type": "code",
      "metadata": {
        "id": "r7RCnwz4q6Ym",
        "colab_type": "code",
        "colab": {}
      },
      "source": [
        "## 1.a\n",
        "# Dates to timestamps using as_date from lubridate -> use as_date() instead of base R as.date() function, since faster and less errors.\n",
        "trips  %<>%\n",
        "    mutate(date_start = lubridate::as_date(date_start),\n",
        "          date_end = as_date(date_end))"
      ],
      "execution_count": 0,
      "outputs": []
    },
    {
      "cell_type": "code",
      "metadata": {
        "id": "VRMi58ggrQQw",
        "colab_type": "code",
        "colab": {}
      },
      "source": [
        "trips %>% head()"
      ],
      "execution_count": 0,
      "outputs": []
    },
    {
      "cell_type": "code",
      "metadata": {
        "id": "ulkBHFWHrkvW",
        "colab_type": "code",
        "colab": {}
      },
      "source": [
        "## 1.b\n",
        "# Calculate duration\n",
        "trips %<>%\n",
        "  mutate(duration = date_end - date_start)"
      ],
      "execution_count": 0,
      "outputs": []
    },
    {
      "cell_type": "code",
      "metadata": {
        "id": "MxfPKe-or_IG",
        "colab_type": "code",
        "colab": {}
      },
      "source": [
        "trips %>% head()"
      ],
      "execution_count": 0,
      "outputs": []
    },
    {
      "cell_type": "code",
      "metadata": {
        "id": "uoEln1x5sVGl",
        "colab_type": "code",
        "colab": {}
      },
      "source": [
        "## 1.c\n",
        "# Filter extreme duration observations\n",
        "# Check what might be extreme date_start and duration observations graphically\n",
        "trips %>%\n",
        "  ggplot(aes(x = duration)) +\n",
        "  geom_histogram()"
      ],
      "execution_count": 0,
      "outputs": []
    },
    {
      "cell_type": "code",
      "metadata": {
        "id": "bxFGXOFws2UL",
        "colab_type": "code",
        "colab": {}
      },
      "source": [
        "trips %>%\n",
        "  ggplot(aes(x = date_start)) +\n",
        "  geom_histogram()"
      ],
      "execution_count": 0,
      "outputs": []
    },
    {
      "cell_type": "code",
      "metadata": {
        "id": "flfUJuJ2s8t_",
        "colab_type": "code",
        "colab": {}
      },
      "source": [
        "# Create percentiles for date_start and date_end using the percent_rank() function. Note that it neads numeric inputs instead of dates\n",
        "trips %<>%\n",
        "  mutate(pct_date_start = percent_rank(as.numeric(date_start)),\n",
        "        pct_date_end = percent_rank(as.numeric(date_end)))"
      ],
      "execution_count": 0,
      "outputs": []
    },
    {
      "cell_type": "code",
      "metadata": {
        "id": "rHBwemkOtSyq",
        "colab_type": "code",
        "colab": {}
      },
      "source": [
        "trips %>% head()"
      ],
      "execution_count": 0,
      "outputs": []
    },
    {
      "cell_type": "code",
      "metadata": {
        "id": "xtQKRHq9tX2M",
        "colab_type": "code",
        "colab": {}
      },
      "source": [
        "# Filter observations to be in interval\n",
        "trips %<>%\n",
        "  filter(0 < duration,\n",
        "        0.01 <= pct_date_start, pct_date_start <= 0.97,\n",
        "        0.01 <= pct_date_end, pct_date_end <= 0.97) %>%\n",
        "  mutate(dur_num = as.numeric(duration))"
      ],
      "execution_count": 0,
      "outputs": []
    },
    {
      "cell_type": "code",
      "metadata": {
        "id": "U-aheRw0tzA6",
        "colab_type": "code",
        "colab": {}
      },
      "source": [
        "## 1.d\n",
        "# Joint with country list\n",
        "trips %<>% \n",
        "  left_join(country, by = c(\"country_code\" = \"alpha_2\"))"
      ],
      "execution_count": 0,
      "outputs": []
    },
    {
      "cell_type": "code",
      "metadata": {
        "id": "6kGsCC11uPSF",
        "colab_type": "code",
        "colab": {}
      },
      "source": [
        "trips %>% head()"
      ],
      "execution_count": 0,
      "outputs": []
    },
    {
      "cell_type": "markdown",
      "metadata": {
        "id": "njCHjlieuYUU",
        "colab_type": "text"
      },
      "source": [
        "# 2: People"
      ]
    },
    {
      "cell_type": "code",
      "metadata": {
        "id": "pZg1NXB-uayP",
        "colab_type": "code",
        "colab": {}
      },
      "source": [
        "## 2.a\n",
        "# People with highschool diploma\n",
        "# Note: I use replace_na(\"\") to fill missing education values with an empty string (\"\"), so str_detect(\"High School\") will return FALSE instead of NA\n",
        "people  %<>%\n",
        "  mutate(HS = ifelse(education_raw %>% replace_na(\"\") %>% str_detect(\"High School\"), TRUE, FALSE))"
      ],
      "execution_count": 0,
      "outputs": []
    },
    {
      "cell_type": "code",
      "metadata": {
        "id": "IQVRlCebvMQY",
        "colab_type": "code",
        "colab": {}
      },
      "source": [
        "people %>% count(HS)\n",
        "# seems to be 321"
      ],
      "execution_count": 0,
      "outputs": []
    },
    {
      "cell_type": "code",
      "metadata": {
        "id": "uHrx0f2mvzYa",
        "colab_type": "code",
        "colab": {}
      },
      "source": [
        "## 2.b\n",
        "# Software developer with master\n",
        "# We first create a MS variable for people with master degree\n",
        "people  %<>%\n",
        "  mutate(MS = ifelse(education_raw %>% replace_na(\"\") %>% str_detect(\"Master\"), TRUE, FALSE))"
      ],
      "execution_count": 0,
      "outputs": []
    },
    {
      "cell_type": "code",
      "metadata": {
        "id": "FBpFLKjGwZgb",
        "colab_type": "code",
        "colab": {}
      },
      "source": [
        "people %>%\n",
        "  filter(work_raw %>% str_detect(\"Software Dev\")) %>%\n",
        "  count(MS)\n",
        "  # Seems to be 57"
      ],
      "execution_count": 0,
      "outputs": []
    },
    {
      "cell_type": "code",
      "metadata": {
        "id": "8HAS7W2lwwde",
        "colab_type": "code",
        "colab": {}
      },
      "source": [
        "## 2.c\n",
        "# Most popular master\n",
        "people %>%\n",
        "  filter(MS == TRUE) %>%\n",
        "  arrange(desc(followers)) %>%\n",
        "  head()\n",
        "# Its this first guy @levelsio... check him out on twitter if youy like :)"
      ],
      "execution_count": 0,
      "outputs": []
    },
    {
      "cell_type": "markdown",
      "metadata": {
        "id": "0OihA7WXxbrb",
        "colab_type": "text"
      },
      "source": [
        "# 3: Trips "
      ]
    },
    {
      "cell_type": "code",
      "metadata": {
        "id": "k3SmjsXaxj4n",
        "colab_type": "code",
        "colab": {}
      },
      "source": [
        "## 3.a\n",
        "# Country with the most trips using n() from dplyr\n",
        "trips %>%\n",
        "  group_by(country) %>%\n",
        "  summarise(trips = n()) %>%\n",
        "  arrange(desc(trips)) %>%\n",
        "  head()\n",
        "\n",
        "# The US it is!"
      ],
      "execution_count": 0,
      "outputs": []
    },
    {
      "cell_type": "code",
      "metadata": {
        "id": "NyZ2Cn1Zx-E4",
        "colab_type": "code",
        "colab": {}
      },
      "source": [
        "# Note: Alternative and faster way with count()\n",
        "trips %>%\n",
        "  count(country, sort = TRUE) %>%\n",
        "  head()"
      ],
      "execution_count": 0,
      "outputs": []
    },
    {
      "cell_type": "code",
      "metadata": {
        "id": "XO0DmGP3yQj4",
        "colab_type": "code",
        "colab": {}
      },
      "source": [
        "## 2.b\n",
        "# Create start year variable with lubridate's year() function\n",
        "trips %<>%\n",
        "  mutate(year = year(date_start))"
      ],
      "execution_count": 0,
      "outputs": []
    },
    {
      "cell_type": "code",
      "metadata": {
        "id": "fZblz705yt_f",
        "colab_type": "code",
        "colab": {}
      },
      "source": [
        "trips %>% head()"
      ],
      "execution_count": 0,
      "outputs": []
    },
    {
      "cell_type": "code",
      "metadata": {
        "id": "niPqhCvZy0az",
        "colab_type": "code",
        "colab": {}
      },
      "source": [
        "# Find trips in 2017\n",
        "trips %>%\n",
        "  filter(year == 2017) %>%\n",
        "  count(country, sort = TRUE) %>%\n",
        "  head()\n",
        "# Again the US..."
      ],
      "execution_count": 0,
      "outputs": []
    },
    {
      "cell_type": "code",
      "metadata": {
        "id": "c1PV_zPUzVrh",
        "colab_type": "code",
        "colab": {}
      },
      "source": [
        "## 2.c\n",
        "# Time in east asia \n",
        "trips %>%\n",
        "  filter(sub_region == \"Eastern Asia\") %>%\n",
        "  group_by(country) %>%\n",
        "  summarise(ave_dur = mean(duration, na.rm = TRUE)) %>%\n",
        "  arrange(ave_dur) %>%\n",
        "  head() %>%\n",
        "  ggplot(aes(x = country %>% reorder(desc(ave_dur)), y = ave_dur)) +\n",
        "  geom_col() +\n",
        "  coord_flip()\n",
        "\n",
        "# North Korea it is... I am not surprised...\n",
        "# Note: Reorder is used that the countries are ordered not by name but duration"
      ],
      "execution_count": 0,
      "outputs": []
    },
    {
      "cell_type": "code",
      "metadata": {
        "id": "DteiqBR3zmcR",
        "colab_type": "code",
        "colab": {}
      },
      "source": [
        "## 3.d\n",
        "# Trip duration of Software Dev people\n",
        "# Merge people and trips data\n",
        "trips %<>% \n",
        "  left_join(people, by = \"username\")"
      ],
      "execution_count": 0,
      "outputs": []
    },
    {
      "cell_type": "code",
      "metadata": {
        "id": "IMPTQBpxz8Fx",
        "colab_type": "code",
        "colab": {}
      },
      "source": [
        "trips %<>%\n",
        "  mutate(soft_dev = ifelse(work_raw %>% replace_na(\"\") %>% str_detect(\"Software Dev\"), TRUE, FALSE))"
      ],
      "execution_count": 0,
      "outputs": []
    },
    {
      "cell_type": "code",
      "metadata": {
        "id": "WdHeMRU60AMd",
        "colab_type": "code",
        "colab": {}
      },
      "source": [
        "# Then get the average duration by group\n",
        "trips %>%\n",
        "  group_by(soft_dev) %>%\n",
        "  summarise(ave_dur = mean(duration, na.rm = TRUE))\n",
        "# They actually have slightly shorter trips"
      ],
      "execution_count": 0,
      "outputs": []
    },
    {
      "cell_type": "code",
      "metadata": {
        "id": "lijCc9N23C00",
        "colab_type": "code",
        "colab": {}
      },
      "source": [
        "## 3.e\n",
        "# Visualize median duration\n",
        "    \n",
        "# Create week-month-year with lubridate's floor_date function and summarise to get number of observations by region\n",
        "trips %<>%\n",
        "  mutate(date_start_week = floor_date(date_start, unit = \"week\"))"
      ],
      "execution_count": 0,
      "outputs": []
    },
    {
      "cell_type": "code",
      "metadata": {
        "id": "FNtUnoQ33l5_",
        "colab_type": "code",
        "colab": {}
      },
      "source": [
        "trips %>% head()"
      ],
      "execution_count": 0,
      "outputs": []
    },
    {
      "cell_type": "code",
      "metadata": {
        "id": "vptDJBRM3WCk",
        "colab_type": "code",
        "colab": {}
      },
      "source": [
        "# Create aggregated datasets\n",
        "trips_w <- trips %>%\n",
        "  group_by(date_start_week, region) %>%\n",
        "  summarise(trips = median(duration))"
      ],
      "execution_count": 0,
      "outputs": []
    },
    {
      "cell_type": "code",
      "metadata": {
        "id": "VX4uypMQ4VkE",
        "colab_type": "code",
        "colab": {}
      },
      "source": [
        " # BONUS: Some countries have no trips in a given period and so no rows -> complete the dataset with the dplyr complete() function\n",
        "trips_w %<>%\n",
        "  complete(date_start_week, region)"
      ],
      "execution_count": 0,
      "outputs": []
    },
    {
      "cell_type": "code",
      "metadata": {
        "id": "qrzeQBYz4pK5",
        "colab_type": "code",
        "colab": {}
      },
      "source": [
        "# Plot with ggplot2 by region\n",
        "trips_w %>%\n",
        "  ggplot(aes(x = date_start_week, y = trips, color = region)) +\n",
        "  geom_point() +\n",
        "  geom_line() +\n",
        "  labs(x = \"Time\",\n",
        "       y = \"Trips\") \n",
        "# Not pretty but ok..."
      ],
      "execution_count": 0,
      "outputs": []
    }
  ]
}