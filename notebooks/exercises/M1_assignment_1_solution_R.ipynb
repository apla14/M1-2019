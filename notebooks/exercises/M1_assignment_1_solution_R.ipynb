{
  "nbformat": 4,
  "nbformat_minor": 0,
  "metadata": {
    "kernelspec": {
      "display_name": "R",
      "language": "R",
      "name": "ir"
    },
    "language_info": {
      "mimetype": "text/x-r-source",
      "name": "R",
      "pygments_lexer": "r",
      "version": "3.4.2",
      "file_extension": ".r",
      "codemirror_mode": "r"
    },
    "colab": {
      "name": "SDS_M2_dataviz.ipynb",
      "version": "0.3.2",
      "provenance": [],
      "collapsed_sections": []
    }
  },
  "cells": [
    {
      "cell_type": "code",
      "metadata": {
        "_uuid": "dc89402886b916fd5a6df3e7937920a8e1ecce18",
        "_execution_state": "idle",
        "trusted": true,
        "id": "pr_D69HbWCwP",
        "colab_type": "code",
        "colab": {}
      },
      "source": [
        "## Importing packages\n",
        "library(tidyverse) # metapackage with lots of helpful functions\n",
        "library(magrittr)"
      ],
      "execution_count": 0,
      "outputs": []
    }
  ]
}