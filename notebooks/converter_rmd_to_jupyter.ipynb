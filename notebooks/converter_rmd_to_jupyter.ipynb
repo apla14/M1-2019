{
  "nbformat": 4,
  "nbformat_minor": 0,
  "metadata": {
    "colab": {
      "name": "Notebook converter!",
      "version": "0.3.2",
      "provenance": [],
      "collapsed_sections": [],
      "include_colab_link": true
    },
    "kernelspec": {
      "name": "python3",
      "display_name": "Python 3"
    }
  },
  "cells": [
    {
      "cell_type": "markdown",
      "metadata": {
        "id": "view-in-github",
        "colab_type": "text"
      },
      "source": [
        "<a href=\"https://colab.research.google.com/github/SDS-AAU/M1-2019/blob/master/notebooks/converter_rmd_to_jupyter.ipynb\" target=\"_parent\"><img src=\"https://colab.research.google.com/assets/colab-badge.svg\" alt=\"Open In Colab\"/></a>"
      ]
    },
    {
      "cell_type": "code",
      "metadata": {
        "id": "pE1SGp7igCXC",
        "colab_type": "code",
        "outputId": "1e1099fc-5198-4af3-d91b-b8a582731cbd",
        "colab": {
          "base_uri": "https://localhost:8080/",
          "height": 326
        }
      },
      "source": [
        "#run this\n",
        "!pip3 install ipyrmd"
      ],
      "execution_count": 0,
      "outputs": [
        {
          "output_type": "stream",
          "text": [
            "Collecting ipyrmd\n",
            "  Downloading https://files.pythonhosted.org/packages/5a/17/a80f6023af94849954fb053f9a65e530dc84845a3f498c28ee250e5a4561/ipyrmd-0.4.3.tar.gz\n",
            "Requirement already satisfied: nbformat in /usr/local/lib/python3.6/dist-packages (from ipyrmd) (4.4.0)\n",
            "Requirement already satisfied: pyyaml in /usr/local/lib/python3.6/dist-packages (from ipyrmd) (3.13)\n",
            "Requirement already satisfied: ipython-genutils in /usr/local/lib/python3.6/dist-packages (from nbformat->ipyrmd) (0.2.0)\n",
            "Requirement already satisfied: traitlets>=4.1 in /usr/local/lib/python3.6/dist-packages (from nbformat->ipyrmd) (4.3.2)\n",
            "Requirement already satisfied: jsonschema!=2.5.0,>=2.4 in /usr/local/lib/python3.6/dist-packages (from nbformat->ipyrmd) (2.6.0)\n",
            "Requirement already satisfied: jupyter-core in /usr/local/lib/python3.6/dist-packages (from nbformat->ipyrmd) (4.5.0)\n",
            "Requirement already satisfied: six in /usr/local/lib/python3.6/dist-packages (from traitlets>=4.1->nbformat->ipyrmd) (1.12.0)\n",
            "Requirement already satisfied: decorator in /usr/local/lib/python3.6/dist-packages (from traitlets>=4.1->nbformat->ipyrmd) (4.4.0)\n",
            "Building wheels for collected packages: ipyrmd\n",
            "  Building wheel for ipyrmd (setup.py) ... \u001b[?25l\u001b[?25hdone\n",
            "  Created wheel for ipyrmd: filename=ipyrmd-0.4.3-cp36-none-any.whl size=7498 sha256=8b25967d2235eb63f96293235578c2b40f91f0c2d9a0fbd0a4cd2372dcf5dd21\n",
            "  Stored in directory: /root/.cache/pip/wheels/43/8c/84/0d3cad157503cfae91fbf3051f6c8cbd8907bc477119de5b05\n",
            "Successfully built ipyrmd\n",
            "Installing collected packages: ipyrmd\n",
            "Successfully installed ipyrmd-0.4.3\n"
          ],
          "name": "stdout"
        }
      ]
    },
    {
      "cell_type": "code",
      "metadata": {
        "id": "TogSTjNWgyLZ",
        "colab_type": "code",
        "outputId": "86ac1b8b-29a5-4bb7-b273-875a1f8e8cdb",
        "colab": {
          "base_uri": "https://localhost:8080/",
          "height": 34
        }
      },
      "source": [
        "# upload the file and run this (change file names)\n",
        "!ipyrmd --to ipynb --from Rmd -o M1_5_unsupervised_ml.ipynb M1_5_unsupervised_ml.Rmd"
      ],
      "execution_count": 0,
      "outputs": [
        {
          "output_type": "stream",
          "text": [
            "Converting (Rmd->ipynb) \"M1_5_unsupervised_ml.Rmd\" to \"M1_5_unsupervised_ml.ipynb\"\n"
          ],
          "name": "stdout"
        }
      ]
    },
    {
      "cell_type": "code",
      "metadata": {
        "id": "v59TnHO-k8SJ",
        "colab_type": "code",
        "colab": {}
      },
      "source": [
        ""
      ],
      "execution_count": 0,
      "outputs": []
    }
  ]
}